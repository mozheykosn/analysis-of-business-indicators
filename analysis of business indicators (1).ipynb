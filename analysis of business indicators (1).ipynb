{
 "cells": [
  {
   "cell_type": "markdown",
   "metadata": {},
   "source": [
    "# Analysis of business indicators"
   ]
  },
  {
   "cell_type": "markdown",
   "metadata": {},
   "source": [
    "Product - the entertainment application Procrastinate Pro+.\n",
    "\n",
    "In recent months, the application has been operating at a loss, despite significant advertising budgets.\n",
    "\n",
    "The goal is to identify the causes and help the company turn a profit.\n",
    "\n",
    "Tasks:\n",
    "- Determine where users come from and what devices they use,\n",
    "- Determine the cost of attracting users from different advertising channels;\n",
    "- Determine how much money each customer brings in,\n",
    "- Determine when customer acquisition costs are recovered,\n",
    "- Identify factors that hinder customer acquisition.\n",
    "\n",
    "There is data available on users attracted from May 1 to October 27, 2019:\n",
    "- Server logs with information about their site visits,\n",
    "- Download of their purchases for this period,\n",
    "- Advertising expenses.\n",
    "\n",
    "Data description:\n",
    "There are three datasets available. The file visits_info_short.csv contains the server log with information about site visits, orders_info_short.csv contains information about orders, and costs_info_short.csv contains information about advertising expenses.\n",
    "\n",
    "Structure of visits_info_short.csv:\n",
    "- User Id - a unique user identifier,\n",
    "- Region - user's country,\n",
    "- Device - user's device type,\n",
    "- Channel - identifier of the traffic source,\n",
    "- Session Start - date and time the session began,\n",
    "- Session End - date and time the session ended.\n",
    "\n",
    "Structure of orders_info_short.csv:\n",
    "\n",
    "- User Id - a unique user identifier,\n",
    "- Event Dt - date and time of purchase,\n",
    "- Revenue - purchase amount.\n",
    "\n",
    "Structure of costs_info_short.csv:\n",
    "\n",
    "- dt - date of the advertising campaign,\n",
    "- Channel - identifier of the advertising source,\n",
    "- Costs - expenses for this campaign."
   ]
  },
  {
   "cell_type": "markdown",
   "metadata": {
    "id": "r-BO88CnWVwe"
   },
   "source": [
    "## Data loading and preprocessing"
   ]
  },
  {
   "cell_type": "markdown",
   "metadata": {
    "id": "LCZi0P80WVwj"
   },
   "source": [
    "We load all necessary libraries and data about visits, orders, and advertising expenses from CSV files into variables. We examine the data and perform preprocessing. We check for missing values and duplicates in the data. We also check the data types in all columns."
   ]
  },
  {
   "cell_type": "code",
   "execution_count": 1,
   "metadata": {
    "id": "_vsKinGUWVwk"
   },
   "outputs": [],
   "source": [
    "#загрузим необходимые библиотеки и модули\n",
    "import pandas as pd\n",
    "import numpy as np\n",
    "from datetime import datetime, timedelta\n",
    "from matplotlib import pyplot as plt"
   ]
  },
  {
   "cell_type": "code",
   "execution_count": 2,
   "metadata": {},
   "outputs": [
    {
     "name": "stdout",
     "output_type": "stream",
     "text": [
      "<class 'pandas.core.frame.DataFrame'>\n",
      "RangeIndex: 309901 entries, 0 to 309900\n",
      "Data columns (total 6 columns):\n",
      " #   Column         Non-Null Count   Dtype \n",
      "---  ------         --------------   ----- \n",
      " 0   User Id        309901 non-null  int64 \n",
      " 1   Region         309901 non-null  object\n",
      " 2   Device         309901 non-null  object\n",
      " 3   Channel        309901 non-null  object\n",
      " 4   Session Start  309901 non-null  object\n",
      " 5   Session End    309901 non-null  object\n",
      "dtypes: int64(1), object(5)\n",
      "memory usage: 14.2+ MB\n",
      "<class 'pandas.core.frame.DataFrame'>\n",
      "RangeIndex: 40212 entries, 0 to 40211\n",
      "Data columns (total 3 columns):\n",
      " #   Column    Non-Null Count  Dtype  \n",
      "---  ------    --------------  -----  \n",
      " 0   User Id   40212 non-null  int64  \n",
      " 1   Event Dt  40212 non-null  object \n",
      " 2   Revenue   40212 non-null  float64\n",
      "dtypes: float64(1), int64(1), object(1)\n",
      "memory usage: 942.6+ KB\n",
      "<class 'pandas.core.frame.DataFrame'>\n",
      "RangeIndex: 1800 entries, 0 to 1799\n",
      "Data columns (total 3 columns):\n",
      " #   Column   Non-Null Count  Dtype  \n",
      "---  ------   --------------  -----  \n",
      " 0   dt       1800 non-null   object \n",
      " 1   Channel  1800 non-null   object \n",
      " 2   costs    1800 non-null   float64\n",
      "dtypes: float64(1), object(2)\n",
      "memory usage: 42.3+ KB\n"
     ]
    },
    {
     "data": {
      "text/plain": [
       "(None, None, None)"
      ]
     },
     "execution_count": 2,
     "metadata": {},
     "output_type": "execute_result"
    }
   ],
   "source": [
    "# загрузим данные в переменные\n",
    "visits, orders, costs = (\n",
    "    pd.read_csv('/datasets/visits_info_short.csv'),  # журнал сессий\n",
    "    pd.read_csv('/datasets/orders_info_short.csv'),  # покупки\n",
    "    pd.read_csv('/datasets/costs_info_short.csv'),  # траты на рекламу\n",
    ")\n",
    "\n",
    "# посмотрим на таблицы\n",
    "visits.info(), orders.info(), costs.info()\n"
   ]
  },
  {
   "cell_type": "markdown",
   "metadata": {},
   "source": [
    "We see that the columns have different cases everywhere, so we'll convert them to a consistent case and remove any spaces."
   ]
  },
  {
   "cell_type": "code",
   "execution_count": 3,
   "metadata": {},
   "outputs": [],
   "source": [
    "# переименуем столбцы\n",
    "visits.rename(columns = {'User Id':'user_id', \n",
    "                         'Region':'region', \n",
    "                         'Device':'device', \n",
    "                         'Channel':'channel', \n",
    "                         'Session Start':'session_start', \n",
    "                         'Session End':'session_end'}, \n",
    "              inplace = True )\n",
    "orders.rename(columns = {'User Id':'user_id', \n",
    "                         'Event Dt':'event_dt', \n",
    "                         'Revenue':'revenue'}, \n",
    "              inplace = True )\n",
    "costs.rename(columns = {'Channel':'channel'}, \n",
    "              inplace = True )"
   ]
  },
  {
   "cell_type": "markdown",
   "metadata": {},
   "source": [
    "We also need to change the data type of dates and times from object to datetime."
   ]
  },
  {
   "cell_type": "code",
   "execution_count": 4,
   "metadata": {},
   "outputs": [],
   "source": [
    "# преобразование данных о времени\n",
    "visits['session_start'] = pd.to_datetime(visits['session_start'])\n",
    "visits['session_end'] = pd.to_datetime(visits['session_end'])\n",
    "orders['event_dt'] = pd.to_datetime(orders['event_dt'])\n",
    "costs['dt'] = pd.to_datetime(costs['dt']).dt.date "
   ]
  },
  {
   "cell_type": "markdown",
   "metadata": {},
   "source": [
    "There are no missing values (as seen in info). We'll check for duplicates as well."
   ]
  },
  {
   "cell_type": "code",
   "execution_count": 5,
   "metadata": {},
   "outputs": [
    {
     "data": {
      "text/plain": [
       "0"
      ]
     },
     "execution_count": 5,
     "metadata": {},
     "output_type": "execute_result"
    }
   ],
   "source": [
    "# проверим дубликаты\n",
    "visits.duplicated().sum()"
   ]
  },
  {
   "cell_type": "code",
   "execution_count": 6,
   "metadata": {},
   "outputs": [
    {
     "data": {
      "text/plain": [
       "0"
      ]
     },
     "execution_count": 6,
     "metadata": {},
     "output_type": "execute_result"
    }
   ],
   "source": [
    "# проверим дубликаты\n",
    "orders.duplicated().sum()"
   ]
  },
  {
   "cell_type": "code",
   "execution_count": 7,
   "metadata": {},
   "outputs": [
    {
     "data": {
      "text/plain": [
       "0"
      ]
     },
     "execution_count": 7,
     "metadata": {},
     "output_type": "execute_result"
    }
   ],
   "source": [
    "# проверим дубликаты\n",
    "costs.duplicated().sum()"
   ]
  },
  {
   "cell_type": "markdown",
   "metadata": {},
   "source": [
    "Fortunately, there are no duplicates either. We'll take another look at the tables to make sure the preprocessing was done correctly."
   ]
  },
  {
   "cell_type": "code",
   "execution_count": 8,
   "metadata": {},
   "outputs": [
    {
     "data": {
      "text/html": [
       "<div>\n",
       "<style scoped>\n",
       "    .dataframe tbody tr th:only-of-type {\n",
       "        vertical-align: middle;\n",
       "    }\n",
       "\n",
       "    .dataframe tbody tr th {\n",
       "        vertical-align: top;\n",
       "    }\n",
       "\n",
       "    .dataframe thead th {\n",
       "        text-align: right;\n",
       "    }\n",
       "</style>\n",
       "<table border=\"1\" class=\"dataframe\">\n",
       "  <thead>\n",
       "    <tr style=\"text-align: right;\">\n",
       "      <th></th>\n",
       "      <th>user_id</th>\n",
       "      <th>region</th>\n",
       "      <th>device</th>\n",
       "      <th>channel</th>\n",
       "      <th>session_start</th>\n",
       "      <th>session_end</th>\n",
       "    </tr>\n",
       "  </thead>\n",
       "  <tbody>\n",
       "    <tr>\n",
       "      <th>0</th>\n",
       "      <td>981449118918</td>\n",
       "      <td>United States</td>\n",
       "      <td>iPhone</td>\n",
       "      <td>organic</td>\n",
       "      <td>2019-05-01 02:36:01</td>\n",
       "      <td>2019-05-01 02:45:01</td>\n",
       "    </tr>\n",
       "    <tr>\n",
       "      <th>1</th>\n",
       "      <td>278965908054</td>\n",
       "      <td>United States</td>\n",
       "      <td>iPhone</td>\n",
       "      <td>organic</td>\n",
       "      <td>2019-05-01 04:46:31</td>\n",
       "      <td>2019-05-01 04:47:35</td>\n",
       "    </tr>\n",
       "    <tr>\n",
       "      <th>2</th>\n",
       "      <td>590706206550</td>\n",
       "      <td>United States</td>\n",
       "      <td>Mac</td>\n",
       "      <td>organic</td>\n",
       "      <td>2019-05-01 14:09:25</td>\n",
       "      <td>2019-05-01 15:32:08</td>\n",
       "    </tr>\n",
       "    <tr>\n",
       "      <th>3</th>\n",
       "      <td>326433527971</td>\n",
       "      <td>United States</td>\n",
       "      <td>Android</td>\n",
       "      <td>TipTop</td>\n",
       "      <td>2019-05-01 00:29:59</td>\n",
       "      <td>2019-05-01 00:54:25</td>\n",
       "    </tr>\n",
       "    <tr>\n",
       "      <th>4</th>\n",
       "      <td>349773784594</td>\n",
       "      <td>United States</td>\n",
       "      <td>Mac</td>\n",
       "      <td>organic</td>\n",
       "      <td>2019-05-01 03:33:35</td>\n",
       "      <td>2019-05-01 03:57:40</td>\n",
       "    </tr>\n",
       "  </tbody>\n",
       "</table>\n",
       "</div>"
      ],
      "text/plain": [
       "        user_id         region   device  channel       session_start  \\\n",
       "0  981449118918  United States   iPhone  organic 2019-05-01 02:36:01   \n",
       "1  278965908054  United States   iPhone  organic 2019-05-01 04:46:31   \n",
       "2  590706206550  United States      Mac  organic 2019-05-01 14:09:25   \n",
       "3  326433527971  United States  Android   TipTop 2019-05-01 00:29:59   \n",
       "4  349773784594  United States      Mac  organic 2019-05-01 03:33:35   \n",
       "\n",
       "          session_end  \n",
       "0 2019-05-01 02:45:01  \n",
       "1 2019-05-01 04:47:35  \n",
       "2 2019-05-01 15:32:08  \n",
       "3 2019-05-01 00:54:25  \n",
       "4 2019-05-01 03:57:40  "
      ]
     },
     "metadata": {},
     "output_type": "display_data"
    },
    {
     "data": {
      "text/html": [
       "<div>\n",
       "<style scoped>\n",
       "    .dataframe tbody tr th:only-of-type {\n",
       "        vertical-align: middle;\n",
       "    }\n",
       "\n",
       "    .dataframe tbody tr th {\n",
       "        vertical-align: top;\n",
       "    }\n",
       "\n",
       "    .dataframe thead th {\n",
       "        text-align: right;\n",
       "    }\n",
       "</style>\n",
       "<table border=\"1\" class=\"dataframe\">\n",
       "  <thead>\n",
       "    <tr style=\"text-align: right;\">\n",
       "      <th></th>\n",
       "      <th>user_id</th>\n",
       "      <th>event_dt</th>\n",
       "      <th>revenue</th>\n",
       "    </tr>\n",
       "  </thead>\n",
       "  <tbody>\n",
       "    <tr>\n",
       "      <th>0</th>\n",
       "      <td>188246423999</td>\n",
       "      <td>2019-05-01 23:09:52</td>\n",
       "      <td>4.99</td>\n",
       "    </tr>\n",
       "    <tr>\n",
       "      <th>1</th>\n",
       "      <td>174361394180</td>\n",
       "      <td>2019-05-01 12:24:04</td>\n",
       "      <td>4.99</td>\n",
       "    </tr>\n",
       "    <tr>\n",
       "      <th>2</th>\n",
       "      <td>529610067795</td>\n",
       "      <td>2019-05-01 11:34:04</td>\n",
       "      <td>4.99</td>\n",
       "    </tr>\n",
       "    <tr>\n",
       "      <th>3</th>\n",
       "      <td>319939546352</td>\n",
       "      <td>2019-05-01 15:34:40</td>\n",
       "      <td>4.99</td>\n",
       "    </tr>\n",
       "    <tr>\n",
       "      <th>4</th>\n",
       "      <td>366000285810</td>\n",
       "      <td>2019-05-01 13:59:51</td>\n",
       "      <td>4.99</td>\n",
       "    </tr>\n",
       "  </tbody>\n",
       "</table>\n",
       "</div>"
      ],
      "text/plain": [
       "        user_id            event_dt  revenue\n",
       "0  188246423999 2019-05-01 23:09:52     4.99\n",
       "1  174361394180 2019-05-01 12:24:04     4.99\n",
       "2  529610067795 2019-05-01 11:34:04     4.99\n",
       "3  319939546352 2019-05-01 15:34:40     4.99\n",
       "4  366000285810 2019-05-01 13:59:51     4.99"
      ]
     },
     "metadata": {},
     "output_type": "display_data"
    },
    {
     "data": {
      "text/html": [
       "<div>\n",
       "<style scoped>\n",
       "    .dataframe tbody tr th:only-of-type {\n",
       "        vertical-align: middle;\n",
       "    }\n",
       "\n",
       "    .dataframe tbody tr th {\n",
       "        vertical-align: top;\n",
       "    }\n",
       "\n",
       "    .dataframe thead th {\n",
       "        text-align: right;\n",
       "    }\n",
       "</style>\n",
       "<table border=\"1\" class=\"dataframe\">\n",
       "  <thead>\n",
       "    <tr style=\"text-align: right;\">\n",
       "      <th></th>\n",
       "      <th>dt</th>\n",
       "      <th>channel</th>\n",
       "      <th>costs</th>\n",
       "    </tr>\n",
       "  </thead>\n",
       "  <tbody>\n",
       "    <tr>\n",
       "      <th>0</th>\n",
       "      <td>2019-05-01</td>\n",
       "      <td>FaceBoom</td>\n",
       "      <td>113.3</td>\n",
       "    </tr>\n",
       "    <tr>\n",
       "      <th>1</th>\n",
       "      <td>2019-05-02</td>\n",
       "      <td>FaceBoom</td>\n",
       "      <td>78.1</td>\n",
       "    </tr>\n",
       "    <tr>\n",
       "      <th>2</th>\n",
       "      <td>2019-05-03</td>\n",
       "      <td>FaceBoom</td>\n",
       "      <td>85.8</td>\n",
       "    </tr>\n",
       "    <tr>\n",
       "      <th>3</th>\n",
       "      <td>2019-05-04</td>\n",
       "      <td>FaceBoom</td>\n",
       "      <td>136.4</td>\n",
       "    </tr>\n",
       "    <tr>\n",
       "      <th>4</th>\n",
       "      <td>2019-05-05</td>\n",
       "      <td>FaceBoom</td>\n",
       "      <td>122.1</td>\n",
       "    </tr>\n",
       "  </tbody>\n",
       "</table>\n",
       "</div>"
      ],
      "text/plain": [
       "           dt   channel  costs\n",
       "0  2019-05-01  FaceBoom  113.3\n",
       "1  2019-05-02  FaceBoom   78.1\n",
       "2  2019-05-03  FaceBoom   85.8\n",
       "3  2019-05-04  FaceBoom  136.4\n",
       "4  2019-05-05  FaceBoom  122.1"
      ]
     },
     "metadata": {},
     "output_type": "display_data"
    }
   ],
   "source": [
    "display(visits.head())\n",
    "display(orders.head())\n",
    "display(costs.head())"
   ]
  },
  {
   "cell_type": "markdown",
   "metadata": {},
   "source": [
    "We'll now move on to writing functions that will be needed for future analysis."
   ]
  },
  {
   "cell_type": "markdown",
   "metadata": {},
   "source": [
    "**Conclusion**\n",
    "\n",
    "In data preprocessing, I converted column names to lowercase and a consistent style, checked the data for missing values and duplicates, and changed the data type in columns with dates. I didn't touch the other columns as their data types were set correctly. The data is now ready for further work."
   ]
  },
  {
   "cell_type": "markdown",
   "metadata": {
    "id": "AS1eCqCpWVwk"
   },
   "source": [
    "## Functions for calculating and analyzing LTV, ROI, retention, and conversion\n",
    "\n",
    "Here are the functions used for calculating metric values:\n",
    "\n",
    "- get_profiles() — for creating user profiles,\n",
    "- get_retention() — for calculating retention rate,\n",
    "- get_conversion() — for calculating conversion,\n",
    "- get_ltv() — for calculating LTV.\n",
    "\n",
    "And the functions used for creating visualizations:\n",
    "\n",
    "- filter_data() — for smoothing data,\n",
    "- plot_retention() — for creating a retention rate graph,\n",
    "- plot_conversion() — for creating a conversion graph,\n",
    "- plot_ltv_roi — for visualizing LTV and ROI."
   ]
  },
  {
   "cell_type": "code",
   "execution_count": 9,
   "metadata": {
    "id": "igOfMgBpWVwl"
   },
   "outputs": [],
   "source": [
    "# функция для создания пользовательских профилей\n",
    "\n",
    "def get_profiles(sessions, orders, ad_costs, event_names=[]):\n",
    "\n",
    "    # находим параметры первых посещений\n",
    "    profiles = (\n",
    "        sessions.sort_values(by=['user_id', 'session_start'])\n",
    "        .groupby('user_id')\n",
    "        .agg(\n",
    "            {\n",
    "                'session_start': 'first',\n",
    "                'channel': 'first',\n",
    "                'device': 'first',\n",
    "                'region': 'first',\n",
    "            }\n",
    "        )\n",
    "        .rename(columns={'session_start': 'first_ts'})\n",
    "        .reset_index()\n",
    "    )\n",
    "\n",
    "    # для когортного анализа определяем дату первого посещения\n",
    "    # и первый день месяца, в который это посещение произошло\n",
    "    profiles['dt'] = profiles['first_ts'].dt.date\n",
    "    profiles['month'] = profiles['first_ts'].astype('datetime64[M]')\n",
    "\n",
    "    # добавляем признак платящих пользователей\n",
    "    profiles['payer'] = profiles['user_id'].isin(orders['user_id'].unique())\n",
    "\n",
    "    # добавляем флаги для всех событий из event_names\n",
    "    for event in event_names:\n",
    "        if event in events['event_name'].unique():\n",
    "            profiles[event] = profiles['user_id'].isin(\n",
    "                events.query('event_name == @event')['user_id'].unique()\n",
    "            )\n",
    "\n",
    "    # считаем количество уникальных пользователей\n",
    "    # с одинаковыми источником и датой привлечения\n",
    "    new_users = (\n",
    "        profiles.groupby(['dt', 'channel'])\n",
    "        .agg({'user_id': 'nunique'})\n",
    "        .rename(columns={'user_id': 'unique_users'})\n",
    "        .reset_index()\n",
    "    )\n",
    "\n",
    "    # объединяем траты на рекламу и число привлечённых пользователей\n",
    "    ad_costs = ad_costs.merge(new_users, on=['dt', 'channel'], how='left')\n",
    "\n",
    "    # делим рекламные расходы на число привлечённых пользователей\n",
    "    ad_costs['acquisition_cost'] = ad_costs['costs'] / ad_costs['unique_users']\n",
    "\n",
    "    # добавляем стоимость привлечения в профили\n",
    "    profiles = profiles.merge(\n",
    "        ad_costs[['dt', 'channel', 'acquisition_cost']],\n",
    "        on=['dt', 'channel'],\n",
    "        how='left',\n",
    "    )\n",
    "\n",
    "    # стоимость привлечения органических пользователей равна нулю\n",
    "    profiles['acquisition_cost'] = profiles['acquisition_cost'].fillna(0)\n",
    "\n",
    "    return profiles"
   ]
  },
  {
   "cell_type": "code",
   "execution_count": 10,
   "metadata": {},
   "outputs": [],
   "source": [
    "# функция для расчёта удержания\n",
    "\n",
    "def get_retention(\n",
    "    profiles,\n",
    "    sessions,\n",
    "    observation_date,\n",
    "    horizon_days,\n",
    "    dimensions=[],\n",
    "    ignore_horizon=False,\n",
    "):\n",
    "\n",
    "    # добавляем столбец payer в передаваемый dimensions список\n",
    "    dimensions = ['payer'] + dimensions\n",
    "\n",
    "    # исключаем пользователей, не «доживших» до горизонта анализа\n",
    "    last_suitable_acquisition_date = observation_date\n",
    "    if not ignore_horizon:\n",
    "        last_suitable_acquisition_date = observation_date - timedelta(\n",
    "            days=horizon_days - 1\n",
    "        )\n",
    "    result_raw = profiles.query('dt <= @last_suitable_acquisition_date')\n",
    "\n",
    "    # собираем «сырые» данные для расчёта удержания\n",
    "    result_raw = result_raw.merge(\n",
    "        sessions[['user_id', 'session_start']], on='user_id', how='left'\n",
    "    )\n",
    "    result_raw['lifetime'] = (\n",
    "        result_raw['session_start'] - result_raw['first_ts']\n",
    "    ).dt.days\n",
    "\n",
    "    # функция для группировки таблицы по желаемым признакам\n",
    "    def group_by_dimensions(df, dims, horizon_days):\n",
    "        result = df.pivot_table(\n",
    "            index=dims, columns='lifetime', values='user_id', aggfunc='nunique'\n",
    "        )\n",
    "        cohort_sizes = (\n",
    "            df.groupby(dims)\n",
    "            .agg({'user_id': 'nunique'})\n",
    "            .rename(columns={'user_id': 'cohort_size'})\n",
    "        )\n",
    "        result = cohort_sizes.merge(result, on=dims, how='left').fillna(0)\n",
    "        result = result.div(result['cohort_size'], axis=0)\n",
    "        result = result[['cohort_size'] + list(range(horizon_days))]\n",
    "        result['cohort_size'] = cohort_sizes\n",
    "        return result\n",
    "\n",
    "    # получаем таблицу удержания\n",
    "    result_grouped = group_by_dimensions(result_raw, dimensions, horizon_days)\n",
    "\n",
    "    # получаем таблицу динамики удержания\n",
    "    result_in_time = group_by_dimensions(\n",
    "        result_raw, dimensions + ['dt'], horizon_days\n",
    "    )\n",
    "\n",
    "    # возвращаем обе таблицы и сырые данные\n",
    "    return result_raw, result_grouped, result_in_time "
   ]
  },
  {
   "cell_type": "code",
   "execution_count": 11,
   "metadata": {},
   "outputs": [],
   "source": [
    "\n",
    "# функция для расчёта конверсии\n",
    "\n",
    "def get_conversion(\n",
    "    profiles,\n",
    "    purchases,\n",
    "    observation_date,\n",
    "    horizon_days,\n",
    "    dimensions=[],\n",
    "    ignore_horizon=False,\n",
    "):\n",
    "\n",
    "    # исключаем пользователей, не «доживших» до горизонта анализа\n",
    "    last_suitable_acquisition_date = observation_date\n",
    "    if not ignore_horizon:\n",
    "        last_suitable_acquisition_date = observation_date - timedelta(\n",
    "            days=horizon_days - 1\n",
    "        )\n",
    "    result_raw = profiles.query('dt <= @last_suitable_acquisition_date')\n",
    "\n",
    "    # определяем дату и время первой покупки для каждого пользователя\n",
    "    first_purchases = (\n",
    "        purchases.sort_values(by=['user_id', 'event_dt'])\n",
    "        .groupby('user_id')\n",
    "        .agg({'event_dt': 'first'})\n",
    "        .reset_index()\n",
    "    )\n",
    "\n",
    "    # добавляем данные о покупках в профили\n",
    "    result_raw = result_raw.merge(\n",
    "        first_purchases[['user_id', 'event_dt']], on='user_id', how='left'\n",
    "    )\n",
    "\n",
    "    # рассчитываем лайфтайм для каждой покупки\n",
    "    result_raw['lifetime'] = (\n",
    "        result_raw['event_dt'] - result_raw['first_ts']\n",
    "    ).dt.days\n",
    "\n",
    "    # группируем по cohort, если в dimensions ничего нет\n",
    "    if len(dimensions) == 0:\n",
    "        result_raw['cohort'] = 'All users' \n",
    "        dimensions = dimensions + ['cohort']\n",
    "\n",
    "    # функция для группировки таблицы по желаемым признакам\n",
    "    def group_by_dimensions(df, dims, horizon_days):\n",
    "        result = df.pivot_table(\n",
    "            index=dims, columns='lifetime', values='user_id', aggfunc='nunique'\n",
    "        )\n",
    "        result = result.fillna(0).cumsum(axis = 1)\n",
    "        cohort_sizes = (\n",
    "            df.groupby(dims)\n",
    "            .agg({'user_id': 'nunique'})\n",
    "            .rename(columns={'user_id': 'cohort_size'})\n",
    "        )\n",
    "        result = cohort_sizes.merge(result, on=dims, how='left').fillna(0)\n",
    "        # делим каждую «ячейку» в строке на размер когорты\n",
    "        # и получаем conversion rate\n",
    "        result = result.div(result['cohort_size'], axis=0)\n",
    "        result = result[['cohort_size'] + list(range(horizon_days))]\n",
    "        result['cohort_size'] = cohort_sizes\n",
    "        return result\n",
    "\n",
    "    # получаем таблицу конверсии\n",
    "    result_grouped = group_by_dimensions(result_raw, dimensions, horizon_days)\n",
    "\n",
    "    # для таблицы динамики конверсии убираем 'cohort' из dimensions\n",
    "    if 'cohort' in dimensions: \n",
    "        dimensions = []\n",
    "\n",
    "    # получаем таблицу динамики конверсии\n",
    "    result_in_time = group_by_dimensions(\n",
    "        result_raw, dimensions + ['dt'], horizon_days\n",
    "    )\n",
    "\n",
    "    # возвращаем обе таблицы и сырые данные\n",
    "    return result_raw, result_grouped, result_in_time"
   ]
  },
  {
   "cell_type": "code",
   "execution_count": 12,
   "metadata": {},
   "outputs": [],
   "source": [
    "# функция для расчёта LTV и ROI\n",
    "\n",
    "def get_ltv(\n",
    "    profiles,\n",
    "    purchases,\n",
    "    observation_date,\n",
    "    horizon_days,\n",
    "    dimensions=[],\n",
    "    ignore_horizon=False,\n",
    "):\n",
    "\n",
    "    # исключаем пользователей, не «доживших» до горизонта анализа\n",
    "    last_suitable_acquisition_date = observation_date\n",
    "    if not ignore_horizon:\n",
    "        last_suitable_acquisition_date = observation_date - timedelta(\n",
    "            days=horizon_days - 1\n",
    "        )\n",
    "    result_raw = profiles.query('dt <= @last_suitable_acquisition_date')\n",
    "    # добавляем данные о покупках в профили\n",
    "    result_raw = result_raw.merge(\n",
    "        purchases[['user_id', 'event_dt', 'revenue']], on='user_id', how='left'\n",
    "    )\n",
    "    # рассчитываем лайфтайм пользователя для каждой покупки\n",
    "    result_raw['lifetime'] = (\n",
    "        result_raw['event_dt'] - result_raw['first_ts']\n",
    "    ).dt.days\n",
    "    # группируем по cohort, если в dimensions ничего нет\n",
    "    if len(dimensions) == 0:\n",
    "        result_raw['cohort'] = 'All users'\n",
    "        dimensions = dimensions + ['cohort']\n",
    "\n",
    "    # функция группировки по желаемым признакам\n",
    "    def group_by_dimensions(df, dims, horizon_days):\n",
    "        # строим «треугольную» таблицу выручки\n",
    "        result = df.pivot_table(\n",
    "            index=dims, columns='lifetime', values='revenue', aggfunc='sum'\n",
    "        )\n",
    "        # находим сумму выручки с накоплением\n",
    "        result = result.fillna(0).cumsum(axis=1)\n",
    "        # вычисляем размеры когорт\n",
    "        cohort_sizes = (\n",
    "            df.groupby(dims)\n",
    "            .agg({'user_id': 'nunique'})\n",
    "            .rename(columns={'user_id': 'cohort_size'})\n",
    "        )\n",
    "        # объединяем размеры когорт и таблицу выручки\n",
    "        result = cohort_sizes.merge(result, on=dims, how='left').fillna(0)\n",
    "        # считаем LTV: делим каждую «ячейку» в строке на размер когорты\n",
    "        result = result.div(result['cohort_size'], axis=0)\n",
    "        # исключаем все лайфтаймы, превышающие горизонт анализа\n",
    "        result = result[['cohort_size'] + list(range(horizon_days))]\n",
    "        # восстанавливаем размеры когорт\n",
    "        result['cohort_size'] = cohort_sizes\n",
    "\n",
    "        # собираем датафрейм с данными пользователей и значениями CAC, \n",
    "        # добавляя параметры из dimensions\n",
    "        cac = df[['user_id', 'acquisition_cost'] + dims].drop_duplicates()\n",
    "\n",
    "        # считаем средний CAC по параметрам из dimensions\n",
    "        cac = (\n",
    "            cac.groupby(dims)\n",
    "            .agg({'acquisition_cost': 'mean'})\n",
    "            .rename(columns={'acquisition_cost': 'cac'})\n",
    "        )\n",
    "\n",
    "        # считаем ROI: делим LTV на CAC\n",
    "        roi = result.div(cac['cac'], axis=0)\n",
    "\n",
    "        # удаляем строки с бесконечным ROI\n",
    "        roi = roi[~roi['cohort_size'].isin([np.inf])]\n",
    "\n",
    "        # восстанавливаем размеры когорт в таблице ROI\n",
    "        roi['cohort_size'] = cohort_sizes\n",
    "\n",
    "        # добавляем CAC в таблицу ROI\n",
    "        roi['cac'] = cac['cac']\n",
    "\n",
    "        # в финальной таблице оставляем размеры когорт, CAC\n",
    "        # и ROI в лайфтаймы, не превышающие горизонт анализа\n",
    "        roi = roi[['cohort_size', 'cac'] + list(range(horizon_days))]\n",
    "\n",
    "        # возвращаем таблицы LTV и ROI\n",
    "        return result, roi\n",
    "\n",
    "    # получаем таблицы LTV и ROI\n",
    "    result_grouped, roi_grouped = group_by_dimensions(\n",
    "        result_raw, dimensions, horizon_days\n",
    "    )\n",
    "\n",
    "    # для таблиц динамики убираем 'cohort' из dimensions\n",
    "    if 'cohort' in dimensions:\n",
    "        dimensions = []\n",
    "\n",
    "    # получаем таблицы динамики LTV и ROI\n",
    "    result_in_time, roi_in_time = group_by_dimensions(\n",
    "        result_raw, dimensions + ['dt'], horizon_days\n",
    "    )\n",
    "\n",
    "    return (\n",
    "        result_raw,  # сырые данные\n",
    "        result_grouped,  # таблица LTV\n",
    "        result_in_time,  # таблица динамики LTV\n",
    "        roi_grouped,  # таблица ROI\n",
    "        roi_in_time,  # таблица динамики ROI\n",
    "    )"
   ]
  },
  {
   "cell_type": "code",
   "execution_count": 13,
   "metadata": {},
   "outputs": [],
   "source": [
    "# функция для сглаживания фрейма\n",
    "\n",
    "def filter_data(df, window):\n",
    "    # для каждого столбца применяем скользящее среднее\n",
    "    for column in df.columns.values:\n",
    "        df[column] = df[column].rolling(window).mean() \n",
    "    return df"
   ]
  },
  {
   "cell_type": "code",
   "execution_count": 14,
   "metadata": {},
   "outputs": [],
   "source": [
    "# функция для визуализации удержания\n",
    "\n",
    "def plot_retention(retention, retention_history, horizon, window=7):\n",
    "\n",
    "    # задаём размер сетки для графиков\n",
    "    plt.figure(figsize=(15, 10))\n",
    "\n",
    "    # исключаем размеры когорт и удержание первого дня\n",
    "    retention = retention.drop(columns=['cohort_size', 0])\n",
    "    # в таблице динамики оставляем только нужный лайфтайм\n",
    "    retention_history = retention_history.drop(columns=['cohort_size'])[\n",
    "        [horizon - 1]\n",
    "    ]\n",
    "\n",
    "    # если в индексах таблицы удержания только payer,\n",
    "    # добавляем второй признак — cohort\n",
    "    if retention.index.nlevels == 1:\n",
    "        retention['cohort'] = 'All users'\n",
    "        retention = retention.reset_index().set_index(['cohort', 'payer'])\n",
    "\n",
    "    # в таблице графиков — два столбца и две строки, четыре ячейки\n",
    "    # в первой строим кривые удержания платящих пользователей\n",
    "    ax1 = plt.subplot(2, 2, 1)\n",
    "    retention.query('payer == True').droplevel('payer').T.plot(\n",
    "        grid=True, ax=ax1\n",
    "    )\n",
    "    plt.legend()\n",
    "    plt.xlabel('Лайфтайм')\n",
    "    plt.title('Удержание платящих пользователей')\n",
    "\n",
    "    # во второй ячейке строим кривые удержания неплатящих\n",
    "    # вертикальная ось — от графика из первой ячейки\n",
    "    ax2 = plt.subplot(2, 2, 2, sharey=ax1)\n",
    "    retention.query('payer == False').droplevel('payer').T.plot(\n",
    "        grid=True, ax=ax2\n",
    "    )\n",
    "    plt.legend()\n",
    "    plt.xlabel('Лайфтайм')\n",
    "    plt.title('Удержание неплатящих пользователей')\n",
    "\n",
    "    # в третьей ячейке — динамика удержания платящих\n",
    "    ax3 = plt.subplot(2, 2, 3)\n",
    "    # получаем названия столбцов для сводной таблицы\n",
    "    columns = [\n",
    "        name\n",
    "        for name in retention_history.index.names\n",
    "        if name not in ['dt', 'payer']\n",
    "    ]\n",
    "    # фильтруем данные и строим график\n",
    "    filtered_data = retention_history.query('payer == True').pivot_table(\n",
    "        index='dt', columns=columns, values=horizon - 1, aggfunc='mean'\n",
    "    )\n",
    "    filter_data(filtered_data, window).plot(grid=True, ax=ax3)\n",
    "    plt.xlabel('Дата привлечения')\n",
    "    plt.title(\n",
    "        'Динамика удержания платящих пользователей на {}-й день'.format(\n",
    "            horizon\n",
    "        )\n",
    "    )\n",
    "\n",
    "    # в чётвертой ячейке — динамика удержания неплатящих\n",
    "    ax4 = plt.subplot(2, 2, 4, sharey=ax3)\n",
    "    # фильтруем данные и строим график\n",
    "    filtered_data = retention_history.query('payer == False').pivot_table(\n",
    "        index='dt', columns=columns, values=horizon - 1, aggfunc='mean'\n",
    "    )\n",
    "    filter_data(filtered_data, window).plot(grid=True, ax=ax4)\n",
    "    plt.xlabel('Дата привлечения')\n",
    "    plt.title(\n",
    "        'Динамика удержания неплатящих пользователей на {}-й день'.format(\n",
    "            horizon\n",
    "        )\n",
    "    )\n",
    "    \n",
    "    plt.tight_layout()\n",
    "    plt.show()"
   ]
  },
  {
   "cell_type": "code",
   "execution_count": 15,
   "metadata": {},
   "outputs": [],
   "source": [
    "# функция для визуализации конверсии\n",
    "\n",
    "def plot_conversion(conversion, conversion_history, horizon, window=7):\n",
    "\n",
    "    # задаём размер сетки для графиков\n",
    "    plt.figure(figsize=(15, 5))\n",
    "\n",
    "    # исключаем размеры когорт\n",
    "    conversion = conversion.drop(columns=['cohort_size'])\n",
    "    # в таблице динамики оставляем только нужный лайфтайм\n",
    "    conversion_history = conversion_history.drop(columns=['cohort_size'])[\n",
    "        [horizon - 1]\n",
    "    ]\n",
    "\n",
    "    # первый график — кривые конверсии\n",
    "    ax1 = plt.subplot(1, 2, 1)\n",
    "    conversion.T.plot(grid=True, ax=ax1)\n",
    "    plt.legend()\n",
    "    plt.xlabel('Лайфтайм')\n",
    "    plt.title('Конверсия пользователей')\n",
    "\n",
    "    # второй график — динамика конверсии\n",
    "    ax2 = plt.subplot(1, 2, 2, sharey=ax1)\n",
    "    columns = [\n",
    "        # столбцами сводной таблицы станут все столбцы индекса, кроме даты\n",
    "        name for name in conversion_history.index.names if name not in ['dt']\n",
    "    ]\n",
    "    filtered_data = conversion_history.pivot_table(\n",
    "        index='dt', columns=columns, values=horizon - 1, aggfunc='mean'\n",
    "    )\n",
    "    filter_data(filtered_data, window).plot(grid=True, ax=ax2)\n",
    "    plt.xlabel('Дата привлечения')\n",
    "    plt.title('Динамика конверсии пользователей на {}-й день'.format(horizon))\n",
    "\n",
    "    plt.tight_layout()\n",
    "    plt.show()"
   ]
  },
  {
   "cell_type": "code",
   "execution_count": 16,
   "metadata": {
    "id": "oOLsbJpNWVwm"
   },
   "outputs": [],
   "source": [
    "# функция для визуализации LTV и ROI\n",
    "\n",
    "def plot_ltv_roi(ltv, ltv_history, roi, roi_history, horizon, window=7):\n",
    "\n",
    "    # задаём сетку отрисовки графиков\n",
    "    plt.figure(figsize=(20, 10))\n",
    "\n",
    "    # из таблицы ltv исключаем размеры когорт\n",
    "    ltv = ltv.drop(columns=['cohort_size'])\n",
    "    # в таблице динамики ltv оставляем только нужный лайфтайм\n",
    "    ltv_history = ltv_history.drop(columns=['cohort_size'])[[horizon - 1]]\n",
    "\n",
    "    # стоимость привлечения запишем в отдельный фрейм\n",
    "    cac_history = roi_history[['cac']]\n",
    "\n",
    "    # из таблицы roi исключаем размеры когорт и cac\n",
    "    roi = roi.drop(columns=['cohort_size', 'cac'])\n",
    "    # в таблице динамики roi оставляем только нужный лайфтайм\n",
    "    roi_history = roi_history.drop(columns=['cohort_size', 'cac'])[\n",
    "        [horizon - 1]\n",
    "    ]\n",
    "\n",
    "    # первый график — кривые ltv\n",
    "    ax1 = plt.subplot(2, 3, 1)\n",
    "    ltv.T.plot(grid=True, ax=ax1)\n",
    "    plt.legend()\n",
    "    plt.xlabel('Лайфтайм')\n",
    "    plt.title('LTV')\n",
    "\n",
    "    # второй график — динамика ltv\n",
    "    ax2 = plt.subplot(2, 3, 2, sharey=ax1)\n",
    "    # столбцами сводной таблицы станут все столбцы индекса, кроме даты\n",
    "    columns = [name for name in ltv_history.index.names if name not in ['dt']]\n",
    "    filtered_data = ltv_history.pivot_table(\n",
    "        index='dt', columns=columns, values=horizon - 1, aggfunc='mean'\n",
    "    )\n",
    "    filter_data(filtered_data, window).plot(grid=True, ax=ax2)\n",
    "    plt.xlabel('Дата привлечения')\n",
    "    plt.title('Динамика LTV пользователей на {}-й день'.format(horizon))\n",
    "\n",
    "    # третий график — динамика cac\n",
    "    ax3 = plt.subplot(2, 3, 3, sharey=ax1)\n",
    "    # столбцами сводной таблицы станут все столбцы индекса, кроме даты\n",
    "    columns = [name for name in cac_history.index.names if name not in ['dt']]\n",
    "    filtered_data = cac_history.pivot_table(\n",
    "        index='dt', columns=columns, values='cac', aggfunc='mean'\n",
    "    )\n",
    "    filter_data(filtered_data, window).plot(grid=True, ax=ax3)\n",
    "    plt.xlabel('Дата привлечения')\n",
    "    plt.title('Динамика стоимости привлечения пользователей')\n",
    "\n",
    "    # четвёртый график — кривые roi\n",
    "    ax4 = plt.subplot(2, 3, 4)\n",
    "    roi.T.plot(grid=True, ax=ax4)\n",
    "    plt.axhline(y=1, color='red', linestyle='--', label='Уровень окупаемости')\n",
    "    plt.legend()\n",
    "    plt.xlabel('Лайфтайм')\n",
    "    plt.title('ROI')\n",
    "\n",
    "    # пятый график — динамика roi\n",
    "    ax5 = plt.subplot(2, 3, 5, sharey=ax4)\n",
    "    # столбцами сводной таблицы станут все столбцы индекса, кроме даты\n",
    "    columns = [name for name in roi_history.index.names if name not in ['dt']]\n",
    "    filtered_data = roi_history.pivot_table(\n",
    "        index='dt', columns=columns, values=horizon - 1, aggfunc='mean'\n",
    "    )\n",
    "    filter_data(filtered_data, window).plot(grid=True, ax=ax5)\n",
    "    plt.axhline(y=1, color='red', linestyle='--', label='Уровень окупаемости')\n",
    "    plt.xlabel('Дата привлечения')\n",
    "    plt.title('Динамика ROI пользователей на {}-й день'.format(horizon))\n",
    "\n",
    "    plt.tight_layout()\n",
    "    plt.show()"
   ]
  },
  {
   "cell_type": "markdown",
   "metadata": {
    "id": "V-KBT-KMWVwl"
   },
   "source": [
    "## Exploratory data analysis\n",
    "\n",
    "Tasks:\n",
    "- Create user profiles. Determine the minimum and maximum dates of user acquisition.\n",
    "- Find out which countries users come from and which country has the highest proportion of paying users. Build a table showing the number of users and the proportion of paying users from each country.\n",
    "- Learn which devices clients use and which devices paying users prefer. Build a table showing the number of users and the proportion of paying users for each device.\n",
    "- Study the advertising sources of acquisition and determine the channels that brought the most paying users. Build a table showing the number of users and the proportion of paying users for each acquisition channel.\n",
    "- After each section, formulate the conclusions."
   ]
  },
  {
   "cell_type": "markdown",
   "metadata": {},
   "source": [
    "Let's create user profiles."
   ]
  },
  {
   "cell_type": "code",
   "execution_count": 17,
   "metadata": {},
   "outputs": [
    {
     "data": {
      "text/html": [
       "<div>\n",
       "<style scoped>\n",
       "    .dataframe tbody tr th:only-of-type {\n",
       "        vertical-align: middle;\n",
       "    }\n",
       "\n",
       "    .dataframe tbody tr th {\n",
       "        vertical-align: top;\n",
       "    }\n",
       "\n",
       "    .dataframe thead th {\n",
       "        text-align: right;\n",
       "    }\n",
       "</style>\n",
       "<table border=\"1\" class=\"dataframe\">\n",
       "  <thead>\n",
       "    <tr style=\"text-align: right;\">\n",
       "      <th></th>\n",
       "      <th>user_id</th>\n",
       "      <th>first_ts</th>\n",
       "      <th>channel</th>\n",
       "      <th>device</th>\n",
       "      <th>region</th>\n",
       "      <th>dt</th>\n",
       "      <th>month</th>\n",
       "      <th>payer</th>\n",
       "      <th>acquisition_cost</th>\n",
       "    </tr>\n",
       "  </thead>\n",
       "  <tbody>\n",
       "    <tr>\n",
       "      <th>0</th>\n",
       "      <td>599326</td>\n",
       "      <td>2019-05-07 20:58:57</td>\n",
       "      <td>FaceBoom</td>\n",
       "      <td>Mac</td>\n",
       "      <td>United States</td>\n",
       "      <td>2019-05-07</td>\n",
       "      <td>2019-05-01</td>\n",
       "      <td>True</td>\n",
       "      <td>1.088172</td>\n",
       "    </tr>\n",
       "    <tr>\n",
       "      <th>1</th>\n",
       "      <td>4919697</td>\n",
       "      <td>2019-07-09 12:46:07</td>\n",
       "      <td>FaceBoom</td>\n",
       "      <td>iPhone</td>\n",
       "      <td>United States</td>\n",
       "      <td>2019-07-09</td>\n",
       "      <td>2019-07-01</td>\n",
       "      <td>False</td>\n",
       "      <td>1.107237</td>\n",
       "    </tr>\n",
       "    <tr>\n",
       "      <th>2</th>\n",
       "      <td>6085896</td>\n",
       "      <td>2019-10-01 09:58:33</td>\n",
       "      <td>organic</td>\n",
       "      <td>iPhone</td>\n",
       "      <td>France</td>\n",
       "      <td>2019-10-01</td>\n",
       "      <td>2019-10-01</td>\n",
       "      <td>False</td>\n",
       "      <td>0.000000</td>\n",
       "    </tr>\n",
       "    <tr>\n",
       "      <th>3</th>\n",
       "      <td>22593348</td>\n",
       "      <td>2019-08-22 21:35:48</td>\n",
       "      <td>AdNonSense</td>\n",
       "      <td>PC</td>\n",
       "      <td>Germany</td>\n",
       "      <td>2019-08-22</td>\n",
       "      <td>2019-08-01</td>\n",
       "      <td>False</td>\n",
       "      <td>0.988235</td>\n",
       "    </tr>\n",
       "    <tr>\n",
       "      <th>4</th>\n",
       "      <td>31989216</td>\n",
       "      <td>2019-10-02 00:07:44</td>\n",
       "      <td>YRabbit</td>\n",
       "      <td>iPhone</td>\n",
       "      <td>United States</td>\n",
       "      <td>2019-10-02</td>\n",
       "      <td>2019-10-01</td>\n",
       "      <td>False</td>\n",
       "      <td>0.230769</td>\n",
       "    </tr>\n",
       "  </tbody>\n",
       "</table>\n",
       "</div>"
      ],
      "text/plain": [
       "    user_id            first_ts     channel  device         region  \\\n",
       "0    599326 2019-05-07 20:58:57    FaceBoom     Mac  United States   \n",
       "1   4919697 2019-07-09 12:46:07    FaceBoom  iPhone  United States   \n",
       "2   6085896 2019-10-01 09:58:33     organic  iPhone         France   \n",
       "3  22593348 2019-08-22 21:35:48  AdNonSense      PC        Germany   \n",
       "4  31989216 2019-10-02 00:07:44     YRabbit  iPhone  United States   \n",
       "\n",
       "           dt      month  payer  acquisition_cost  \n",
       "0  2019-05-07 2019-05-01   True          1.088172  \n",
       "1  2019-07-09 2019-07-01  False          1.107237  \n",
       "2  2019-10-01 2019-10-01  False          0.000000  \n",
       "3  2019-08-22 2019-08-01  False          0.988235  \n",
       "4  2019-10-02 2019-10-01  False          0.230769  "
      ]
     },
     "metadata": {},
     "output_type": "display_data"
    }
   ],
   "source": [
    "# получаем профили пользователей\n",
    "profiles = get_profiles(visits, orders, costs)\n",
    "display(profiles.head(5)) "
   ]
  },
  {
   "cell_type": "markdown",
   "metadata": {},
   "source": [
    "We'll determine the minimum and maximum dates of user acquisition. "
   ]
  },
  {
   "cell_type": "code",
   "execution_count": 18,
   "metadata": {},
   "outputs": [
    {
     "name": "stdout",
     "output_type": "stream",
     "text": [
      "Самая ранняя дата в отчете 2019-05-01\n",
      "Самая поздняя дата в отчете 2019-10-27\n"
     ]
    }
   ],
   "source": [
    "min_date = profiles['dt'].min() # найдем самую раннюю дату в отчёте\n",
    "max_date = profiles['dt'].max()  # найдем самую позднюю дату в отчёте\n",
    "print(f'Самая ранняя дата в отчете {min_date}')\n",
    "print(f'Самая поздняя дата в отчете {max_date}')"
   ]
  },
  {
   "cell_type": "markdown",
   "metadata": {},
   "source": [
    "We'll find out which countries users are coming from and which country has the most paying users. We'll build a table that reflects the number of users and the share of paying users from each country. "
   ]
  },
  {
   "cell_type": "code",
   "execution_count": 19,
   "metadata": {},
   "outputs": [
    {
     "data": {
      "text/html": [
       "<div>\n",
       "<style scoped>\n",
       "    .dataframe tbody tr th:only-of-type {\n",
       "        vertical-align: middle;\n",
       "    }\n",
       "\n",
       "    .dataframe tbody tr th {\n",
       "        vertical-align: top;\n",
       "    }\n",
       "\n",
       "    .dataframe thead th {\n",
       "        text-align: right;\n",
       "    }\n",
       "</style>\n",
       "<table border=\"1\" class=\"dataframe\">\n",
       "  <thead>\n",
       "    <tr style=\"text-align: right;\">\n",
       "      <th></th>\n",
       "      <th>Пользователи</th>\n",
       "      <th>Платящие пользователи</th>\n",
       "      <th>Доля платящих</th>\n",
       "    </tr>\n",
       "    <tr>\n",
       "      <th>region</th>\n",
       "      <th></th>\n",
       "      <th></th>\n",
       "      <th></th>\n",
       "    </tr>\n",
       "  </thead>\n",
       "  <tbody>\n",
       "    <tr>\n",
       "      <th>France</th>\n",
       "      <td>17450</td>\n",
       "      <td>663</td>\n",
       "      <td>3.80</td>\n",
       "    </tr>\n",
       "    <tr>\n",
       "      <th>Germany</th>\n",
       "      <td>14981</td>\n",
       "      <td>616</td>\n",
       "      <td>4.11</td>\n",
       "    </tr>\n",
       "    <tr>\n",
       "      <th>UK</th>\n",
       "      <td>17575</td>\n",
       "      <td>700</td>\n",
       "      <td>3.98</td>\n",
       "    </tr>\n",
       "    <tr>\n",
       "      <th>United States</th>\n",
       "      <td>100002</td>\n",
       "      <td>6902</td>\n",
       "      <td>6.90</td>\n",
       "    </tr>\n",
       "  </tbody>\n",
       "</table>\n",
       "</div>"
      ],
      "text/plain": [
       "               Пользователи  Платящие пользователи  Доля платящих\n",
       "region                                                           \n",
       "France                17450                    663           3.80\n",
       "Germany               14981                    616           4.11\n",
       "UK                    17575                    700           3.98\n",
       "United States        100002                   6902           6.90"
      ]
     },
     "execution_count": 19,
     "metadata": {},
     "output_type": "execute_result"
    }
   ],
   "source": [
    "# посмотрим на количество платящих пользователей по странам\n",
    "user_region = profiles.groupby('region') \\\n",
    "                      .agg({'user_id': 'count'}) \\\n",
    "                      .rename(\n",
    "        columns={\n",
    "            'user_id': 'Пользователи'\n",
    "        }\n",
    "    )\n",
    "user_region['Платящие пользователи'] = profiles.query('payer == True') \\\n",
    "                          .groupby('region') \\\n",
    "                          .agg({'payer': 'count'}) \\\n",
    "                          .sort_values(by = 'payer', ascending = False) \n",
    "user_region['Доля платящих'] = round(user_region['Платящие пользователи']/user_region['Пользователи']*100, 2)\n",
    "user_region"
   ]
  },
  {
   "cell_type": "markdown",
   "metadata": {},
   "source": [
    "The United States, United Kingdom, France, and Germany are countries where paying users come from. However, the majority of users are from the United States, where there are 100,000 users, of which only 7% are paying. The other countries (France, Germany, United Kingdom) have much less traffic, and the number of paying users is 600-700, and the share of paying users is even lower. "
   ]
  },
  {
   "cell_type": "markdown",
   "metadata": {},
   "source": [
    "We'll find out what devices customers are using and which devices paying users prefer. We'll build a table that reflects the number of users and the share of paying users for each device. "
   ]
  },
  {
   "cell_type": "code",
   "execution_count": 28,
   "metadata": {},
   "outputs": [
    {
     "data": {
      "text/html": [
       "<div>\n",
       "<style scoped>\n",
       "    .dataframe tbody tr th:only-of-type {\n",
       "        vertical-align: middle;\n",
       "    }\n",
       "\n",
       "    .dataframe tbody tr th {\n",
       "        vertical-align: top;\n",
       "    }\n",
       "\n",
       "    .dataframe thead th {\n",
       "        text-align: right;\n",
       "    }\n",
       "</style>\n",
       "<table border=\"1\" class=\"dataframe\">\n",
       "  <thead>\n",
       "    <tr style=\"text-align: right;\">\n",
       "      <th></th>\n",
       "      <th>Пользователи</th>\n",
       "      <th>Платящие пользователи</th>\n",
       "      <th>Доля платящих</th>\n",
       "    </tr>\n",
       "    <tr>\n",
       "      <th>device</th>\n",
       "      <th></th>\n",
       "      <th></th>\n",
       "      <th></th>\n",
       "    </tr>\n",
       "  </thead>\n",
       "  <tbody>\n",
       "    <tr>\n",
       "      <th>Mac</th>\n",
       "      <td>30042</td>\n",
       "      <td>1912</td>\n",
       "      <td>6.36</td>\n",
       "    </tr>\n",
       "    <tr>\n",
       "      <th>iPhone</th>\n",
       "      <td>54479</td>\n",
       "      <td>3382</td>\n",
       "      <td>6.21</td>\n",
       "    </tr>\n",
       "    <tr>\n",
       "      <th>Android</th>\n",
       "      <td>35032</td>\n",
       "      <td>2050</td>\n",
       "      <td>5.85</td>\n",
       "    </tr>\n",
       "    <tr>\n",
       "      <th>PC</th>\n",
       "      <td>30455</td>\n",
       "      <td>1537</td>\n",
       "      <td>5.05</td>\n",
       "    </tr>\n",
       "  </tbody>\n",
       "</table>\n",
       "</div>"
      ],
      "text/plain": [
       "         Пользователи  Платящие пользователи  Доля платящих\n",
       "device                                                     \n",
       "Mac             30042                   1912           6.36\n",
       "iPhone          54479                   3382           6.21\n",
       "Android         35032                   2050           5.85\n",
       "PC              30455                   1537           5.05"
      ]
     },
     "execution_count": 28,
     "metadata": {},
     "output_type": "execute_result"
    }
   ],
   "source": [
    "# посмотрим на количество платящих пользователей по устройствам\n",
    "user_device = profiles.groupby('device') \\\n",
    "                      .agg({'user_id': 'count'}) \\\n",
    "                      .rename(\n",
    "        columns={\n",
    "            'user_id': 'Пользователи'\n",
    "        }\n",
    "    )\n",
    "user_device['Платящие пользователи'] = profiles.query('payer == True') \\\n",
    "                          .groupby('device') \\\n",
    "                          .agg({'payer': 'count'}) \\\n",
    "                          .sort_values(by = 'payer', ascending = False) \n",
    "user_device['Доля платящих'] = round(user_device['Платящие пользователи']/user_device['Пользователи']*100, 2)\n",
    "user_device.sort_values(by = 'Доля платящих', ascending = False)"
   ]
  },
  {
   "cell_type": "markdown",
   "metadata": {},
   "source": [
    "Paying users mostly use iPhone and Android devices. Mac comes in third place. However, the share of paying users is higher for iPhone and Mac. \n",
    "\n",
    "We'll study advertising sources and determine the channels from which the most paying users came.\n",
    "\n",
    "We'll build a table as in the previous sections. \n"
   ]
  },
  {
   "cell_type": "code",
   "execution_count": 29,
   "metadata": {},
   "outputs": [
    {
     "data": {
      "text/html": [
       "<div>\n",
       "<style scoped>\n",
       "    .dataframe tbody tr th:only-of-type {\n",
       "        vertical-align: middle;\n",
       "    }\n",
       "\n",
       "    .dataframe tbody tr th {\n",
       "        vertical-align: top;\n",
       "    }\n",
       "\n",
       "    .dataframe thead th {\n",
       "        text-align: right;\n",
       "    }\n",
       "</style>\n",
       "<table border=\"1\" class=\"dataframe\">\n",
       "  <thead>\n",
       "    <tr style=\"text-align: right;\">\n",
       "      <th></th>\n",
       "      <th>Пользователи</th>\n",
       "      <th>Платящие пользователи</th>\n",
       "      <th>Доля платящих</th>\n",
       "    </tr>\n",
       "    <tr>\n",
       "      <th>channel</th>\n",
       "      <th></th>\n",
       "      <th></th>\n",
       "      <th></th>\n",
       "    </tr>\n",
       "  </thead>\n",
       "  <tbody>\n",
       "    <tr>\n",
       "      <th>FaceBoom</th>\n",
       "      <td>29144</td>\n",
       "      <td>3557</td>\n",
       "      <td>12.20</td>\n",
       "    </tr>\n",
       "    <tr>\n",
       "      <th>AdNonSense</th>\n",
       "      <td>3880</td>\n",
       "      <td>440</td>\n",
       "      <td>11.34</td>\n",
       "    </tr>\n",
       "    <tr>\n",
       "      <th>lambdaMediaAds</th>\n",
       "      <td>2149</td>\n",
       "      <td>225</td>\n",
       "      <td>10.47</td>\n",
       "    </tr>\n",
       "    <tr>\n",
       "      <th>TipTop</th>\n",
       "      <td>19561</td>\n",
       "      <td>1878</td>\n",
       "      <td>9.60</td>\n",
       "    </tr>\n",
       "    <tr>\n",
       "      <th>RocketSuperAds</th>\n",
       "      <td>4448</td>\n",
       "      <td>352</td>\n",
       "      <td>7.91</td>\n",
       "    </tr>\n",
       "    <tr>\n",
       "      <th>WahooNetBanner</th>\n",
       "      <td>8553</td>\n",
       "      <td>453</td>\n",
       "      <td>5.30</td>\n",
       "    </tr>\n",
       "    <tr>\n",
       "      <th>YRabbit</th>\n",
       "      <td>4312</td>\n",
       "      <td>165</td>\n",
       "      <td>3.83</td>\n",
       "    </tr>\n",
       "    <tr>\n",
       "      <th>MediaTornado</th>\n",
       "      <td>4364</td>\n",
       "      <td>156</td>\n",
       "      <td>3.57</td>\n",
       "    </tr>\n",
       "    <tr>\n",
       "      <th>LeapBob</th>\n",
       "      <td>8553</td>\n",
       "      <td>262</td>\n",
       "      <td>3.06</td>\n",
       "    </tr>\n",
       "    <tr>\n",
       "      <th>OppleCreativeMedia</th>\n",
       "      <td>8605</td>\n",
       "      <td>233</td>\n",
       "      <td>2.71</td>\n",
       "    </tr>\n",
       "    <tr>\n",
       "      <th>organic</th>\n",
       "      <td>56439</td>\n",
       "      <td>1160</td>\n",
       "      <td>2.06</td>\n",
       "    </tr>\n",
       "  </tbody>\n",
       "</table>\n",
       "</div>"
      ],
      "text/plain": [
       "                    Пользователи  Платящие пользователи  Доля платящих\n",
       "channel                                                               \n",
       "FaceBoom                   29144                   3557          12.20\n",
       "AdNonSense                  3880                    440          11.34\n",
       "lambdaMediaAds              2149                    225          10.47\n",
       "TipTop                     19561                   1878           9.60\n",
       "RocketSuperAds              4448                    352           7.91\n",
       "WahooNetBanner              8553                    453           5.30\n",
       "YRabbit                     4312                    165           3.83\n",
       "MediaTornado                4364                    156           3.57\n",
       "LeapBob                     8553                    262           3.06\n",
       "OppleCreativeMedia          8605                    233           2.71\n",
       "organic                    56439                   1160           2.06"
      ]
     },
     "execution_count": 29,
     "metadata": {},
     "output_type": "execute_result"
    }
   ],
   "source": [
    "# посмотрим на количество платящих пользователей по каналам\n",
    "user_channel = profiles.groupby('channel') \\\n",
    "                      .agg({'user_id': 'count'}) \\\n",
    "                      .rename(\n",
    "        columns={\n",
    "            'user_id': 'Пользователи'\n",
    "        }\n",
    "    )\n",
    "user_channel['Платящие пользователи'] = profiles.query('payer == True') \\\n",
    "                          .groupby('channel') \\\n",
    "                          .agg({'payer': 'count'}) \\\n",
    "                          .sort_values(by = 'payer', ascending = False) \n",
    "user_channel['Доля платящих'] = round(user_channel['Платящие пользователи']/user_channel['Пользователи']*100, 2)\n",
    "user_channel.sort_values(by = 'Доля платящих', ascending = False)"
   ]
  },
  {
   "cell_type": "markdown",
   "metadata": {},
   "source": [
    "There are a total of 11 channels from which paying customers come. FaceBoom and TipTop, as well as organic entries, took the top spots by a huge margin. However, if you look at the column for the share of paying users, the situation is different. Top devices: FaceBoom, AdNonSense, lambdaMediaAds."
   ]
  },
  {
   "cell_type": "markdown",
   "metadata": {
    "id": "80LRB5-eWVwm"
   },
   "source": [
    "## Marketing\n",
    "\n",
    "Tasks:\n",
    "\n",
    "- Calculate the total amount of marketing expenses.\n",
    "- Determine how the expenses are distributed among advertising sources, that is, how much money was spent on each source.\n",
    "- Create a visualization of the dynamics of expense changes over time (by weeks and months) for each source.\n",
    "- Find out how much it cost on average to attract one user (CAC) from each source."
   ]
  },
  {
   "cell_type": "markdown",
   "metadata": {
    "id": "DQE9emXqWVwm"
   },
   "source": [
    "Let's calculate the total marketing expenses."
   ]
  },
  {
   "cell_type": "code",
   "execution_count": 22,
   "metadata": {},
   "outputs": [],
   "source": [
    "# посчитаем сумму затрат\n",
    "total_costs = round(costs['costs'].sum())"
   ]
  },
  {
   "cell_type": "markdown",
   "metadata": {},
   "source": [
    "The total marketing expenses amounted to $105,497.\n",
    "\n",
    "Let's find out how the expenses are distributed among advertising sources, that is, how much money was spent on each source."
   ]
  },
  {
   "cell_type": "code",
   "execution_count": 23,
   "metadata": {},
   "outputs": [
    {
     "data": {
      "text/html": [
       "<div>\n",
       "<style scoped>\n",
       "    .dataframe tbody tr th:only-of-type {\n",
       "        vertical-align: middle;\n",
       "    }\n",
       "\n",
       "    .dataframe tbody tr th {\n",
       "        vertical-align: top;\n",
       "    }\n",
       "\n",
       "    .dataframe thead th {\n",
       "        text-align: right;\n",
       "    }\n",
       "</style>\n",
       "<table border=\"1\" class=\"dataframe\">\n",
       "  <thead>\n",
       "    <tr style=\"text-align: right;\">\n",
       "      <th></th>\n",
       "      <th>Затраты</th>\n",
       "      <th>Доля бюджета</th>\n",
       "    </tr>\n",
       "    <tr>\n",
       "      <th>channel</th>\n",
       "      <th></th>\n",
       "      <th></th>\n",
       "    </tr>\n",
       "  </thead>\n",
       "  <tbody>\n",
       "    <tr>\n",
       "      <th>TipTop</th>\n",
       "      <td>54751.30</td>\n",
       "      <td>51.90</td>\n",
       "    </tr>\n",
       "    <tr>\n",
       "      <th>FaceBoom</th>\n",
       "      <td>32445.60</td>\n",
       "      <td>30.75</td>\n",
       "    </tr>\n",
       "    <tr>\n",
       "      <th>WahooNetBanner</th>\n",
       "      <td>5151.00</td>\n",
       "      <td>4.88</td>\n",
       "    </tr>\n",
       "    <tr>\n",
       "      <th>AdNonSense</th>\n",
       "      <td>3911.25</td>\n",
       "      <td>3.71</td>\n",
       "    </tr>\n",
       "    <tr>\n",
       "      <th>OppleCreativeMedia</th>\n",
       "      <td>2151.25</td>\n",
       "      <td>2.04</td>\n",
       "    </tr>\n",
       "    <tr>\n",
       "      <th>RocketSuperAds</th>\n",
       "      <td>1833.00</td>\n",
       "      <td>1.74</td>\n",
       "    </tr>\n",
       "    <tr>\n",
       "      <th>LeapBob</th>\n",
       "      <td>1797.60</td>\n",
       "      <td>1.70</td>\n",
       "    </tr>\n",
       "    <tr>\n",
       "      <th>lambdaMediaAds</th>\n",
       "      <td>1557.60</td>\n",
       "      <td>1.48</td>\n",
       "    </tr>\n",
       "    <tr>\n",
       "      <th>MediaTornado</th>\n",
       "      <td>954.48</td>\n",
       "      <td>0.90</td>\n",
       "    </tr>\n",
       "    <tr>\n",
       "      <th>YRabbit</th>\n",
       "      <td>944.22</td>\n",
       "      <td>0.90</td>\n",
       "    </tr>\n",
       "  </tbody>\n",
       "</table>\n",
       "</div>"
      ],
      "text/plain": [
       "                     Затраты  Доля бюджета\n",
       "channel                                   \n",
       "TipTop              54751.30         51.90\n",
       "FaceBoom            32445.60         30.75\n",
       "WahooNetBanner       5151.00          4.88\n",
       "AdNonSense           3911.25          3.71\n",
       "OppleCreativeMedia   2151.25          2.04\n",
       "RocketSuperAds       1833.00          1.74\n",
       "LeapBob              1797.60          1.70\n",
       "lambdaMediaAds       1557.60          1.48\n",
       "MediaTornado          954.48          0.90\n",
       "YRabbit               944.22          0.90"
      ]
     },
     "metadata": {},
     "output_type": "display_data"
    }
   ],
   "source": [
    "#  выясним как затраты распределены по рекламным источникам \n",
    "channel_costs = costs.groupby('channel') \\\n",
    "                          .agg({'costs': 'sum'}) \\\n",
    "                          .sort_values(by = 'costs', ascending = False) \\\n",
    "                          .rename(\n",
    "        columns={\n",
    "            'costs': 'Затраты'\n",
    "        }\n",
    "    )\n",
    "channel_costs['Доля бюджета'] = round(channel_costs['Затраты']/total_costs*100, 2)\n",
    "display(channel_costs)"
   ]
  },
  {
   "cell_type": "markdown",
   "metadata": {},
   "source": [
    "We can see that the most money was spent on TipTop and FaceBoom (80%), while in the previous section we found out that these channels brought in the most paying users. However, TipTop spent almost twice as much and brought in only half the number of users as FaceBoom. This is likely one of the mistakes made by the marketers.\n",
    "\n",
    "To confirm this, let's look at the budget distribution over time in more detail. We'll visualize the dynamics of changes in expenses over time (by weeks and months) for each source."
   ]
  },
  {
   "cell_type": "code",
   "execution_count": 24,
   "metadata": {},
   "outputs": [],
   "source": [
    "\n",
    "costs['costs_month'] = costs['dt'].astype('datetime64[M]').dt.date\n",
    "costs['costs_week'] = costs['dt'].astype('datetime64[W]').dt.date"
   ]
  },
  {
   "cell_type": "code",
   "execution_count": 25,
   "metadata": {},
   "outputs": [
    {
     "data": {
      "image/png": "[encoded data removed]",
      "text/plain": [
       "<Figure size 1440x360 with 1 Axes>"
      ]
     },
     "metadata": {
      "needs_background": "light"
     },
     "output_type": "display_data"
    },
    {
     "data": {
      "image/png": "[encoded data removed]",
      "text/plain": [
       "<Figure size 1440x360 with 1 Axes>"
      ]
     },
     "metadata": {
      "needs_background": "light"
     },
     "output_type": "display_data"
    }
   ],
   "source": [
    "# посмотрим на распределение затрат на каналы по неделям\n",
    "plt.figure(figsize=(20, 5))\n",
    "report_week = costs.pivot_table(index='costs_week', columns='channel', values='costs', aggfunc='sum')\n",
    "report_week.plot(grid=True,\n",
    "           ax=plt.subplot(1, 2, 2))\n",
    "plt.title('Динамика затрат по неделям')\n",
    "\n",
    "plt.show()\n",
    "\n",
    "# посмотрим на распределение затрат на каналы по месяцам\n",
    "plt.figure(figsize=(20, 5))\n",
    "report_month = costs.pivot_table(index='costs_month', columns='channel', values='costs', aggfunc='sum')\n",
    "report_month.plot(grid=True,\n",
    "           ax=plt.subplot(1, 2, 2))\n",
    "plt.title('Динамика затрат по месяцам')\n",
    "\n",
    "plt.show()"
   ]
  },
  {
   "cell_type": "markdown",
   "metadata": {},
   "source": [
    "In May, there was the smallest budget, after which it was actively increased almost every month. It's possible that the budget was being increased for the wrong channels. Let's find out."
   ]
  },
  {
   "cell_type": "markdown",
   "metadata": {},
   "source": [
    "Let's find out the average cost of acquiring one user (CAC) from each source."
   ]
  },
  {
   "cell_type": "code",
   "execution_count": 26,
   "metadata": {},
   "outputs": [
    {
     "data": {
      "text/html": [
       "<div>\n",
       "<style scoped>\n",
       "    .dataframe tbody tr th:only-of-type {\n",
       "        vertical-align: middle;\n",
       "    }\n",
       "\n",
       "    .dataframe tbody tr th {\n",
       "        vertical-align: top;\n",
       "    }\n",
       "\n",
       "    .dataframe thead th {\n",
       "        text-align: right;\n",
       "    }\n",
       "</style>\n",
       "<table border=\"1\" class=\"dataframe\">\n",
       "  <thead>\n",
       "    <tr style=\"text-align: right;\">\n",
       "      <th></th>\n",
       "      <th>cac</th>\n",
       "    </tr>\n",
       "    <tr>\n",
       "      <th>channel</th>\n",
       "      <th></th>\n",
       "    </tr>\n",
       "  </thead>\n",
       "  <tbody>\n",
       "    <tr>\n",
       "      <th>TipTop</th>\n",
       "      <td>2.799003</td>\n",
       "    </tr>\n",
       "    <tr>\n",
       "      <th>FaceBoom</th>\n",
       "      <td>1.113286</td>\n",
       "    </tr>\n",
       "    <tr>\n",
       "      <th>AdNonSense</th>\n",
       "      <td>1.008054</td>\n",
       "    </tr>\n",
       "    <tr>\n",
       "      <th>lambdaMediaAds</th>\n",
       "      <td>0.724802</td>\n",
       "    </tr>\n",
       "    <tr>\n",
       "      <th>WahooNetBanner</th>\n",
       "      <td>0.602245</td>\n",
       "    </tr>\n",
       "    <tr>\n",
       "      <th>RocketSuperAds</th>\n",
       "      <td>0.412095</td>\n",
       "    </tr>\n",
       "    <tr>\n",
       "      <th>OppleCreativeMedia</th>\n",
       "      <td>0.250000</td>\n",
       "    </tr>\n",
       "    <tr>\n",
       "      <th>YRabbit</th>\n",
       "      <td>0.218975</td>\n",
       "    </tr>\n",
       "    <tr>\n",
       "      <th>MediaTornado</th>\n",
       "      <td>0.218717</td>\n",
       "    </tr>\n",
       "    <tr>\n",
       "      <th>LeapBob</th>\n",
       "      <td>0.210172</td>\n",
       "    </tr>\n",
       "    <tr>\n",
       "      <th>organic</th>\n",
       "      <td>0.000000</td>\n",
       "    </tr>\n",
       "  </tbody>\n",
       "</table>\n",
       "</div>"
      ],
      "text/plain": [
       "                         cac\n",
       "channel                     \n",
       "TipTop              2.799003\n",
       "FaceBoom            1.113286\n",
       "AdNonSense          1.008054\n",
       "lambdaMediaAds      0.724802\n",
       "WahooNetBanner      0.602245\n",
       "RocketSuperAds      0.412095\n",
       "OppleCreativeMedia  0.250000\n",
       "YRabbit             0.218975\n",
       "MediaTornado        0.218717\n",
       "LeapBob             0.210172\n",
       "organic             0.000000"
      ]
     },
     "execution_count": 26,
     "metadata": {},
     "output_type": "execute_result"
    }
   ],
   "source": [
    "# считаем средний CAC по каналам привлечения\n",
    "\n",
    "cac = (\n",
    "    profiles.groupby('channel')\n",
    "    .agg({'acquisition_cost': 'mean'})\n",
    "    .rename(columns={'acquisition_cost': 'cac'})\n",
    "    .sort_values('cac', ascending = False)\n",
    ")\n",
    "\n",
    "cac"
   ]
  },
  {
   "cell_type": "code",
   "execution_count": 32,
   "metadata": {},
   "outputs": [
    {
     "name": "stdout",
     "output_type": "stream",
     "text": [
      "Средний CAC на одного пользователя для всего проекта: 1.13\n"
     ]
    }
   ],
   "source": [
    "# считаем средний CAC по всем каналам привлечения\n",
    "temporary = profiles.query('channel !=\"organic\"')\n",
    "average_cac = temporary['acquisition_cost'].mean()\n",
    "print(f'Средний CAC на одного пользователя для всего проекта: {round(average_cac, 2)}')"
   ]
  },
  {
   "cell_type": "markdown",
   "metadata": {},
   "source": [
    "Now we can confirm that the cost of acquiring one user in TipTop is more than double the average CAC for the entire project (TipTop - 2.79)."
   ]
  },
  {
   "cell_type": "markdown",
   "metadata": {},
   "source": [
    "**Conclusion:**\n",
    "\n",
    "The total marketing expenses amounted to 105,497 dollars for the period from May 1 to October 27, 2019.\n",
    "\n",
    "Most of the budget was spent on TipTop and FaceBoom (80%), while in the previous section, we found out that these channels brought in the most paying users. However, TipTop spent almost twice as much, while bringing in only half as many users as FaceBoom. The smallest budget was allocated in May, after which it was actively increased almost every month. We also found out that the cost of acquiring one user in TipTop is more than double compared to FaceBoom.\n",
    "\n",
    "The average CAC is $1.13. TipTop exceeds it by more than two times - 2.79."
   ]
  },
  {
   "cell_type": "markdown",
   "metadata": {
    "id": "poDjrQVHWVwn"
   },
   "source": [
    "### Advertising profitability assessment\n",
    "\n",
    "Tasks:\n",
    "\n",
    "- Analyze advertising profitability using LTV and ROI graphs, as well as graphs of LTV, CAC, and ROI dynamics.\n",
    "- Check user conversion and its dynamics. Do the same with user retention. Build and study conversion and retention graphs.\n",
    "- Analyze advertising profitability by device breakdown. Build LTV and ROI graphs, as well as LTV, CAC, and ROI dynamics graphs.\n",
    "- Analyze advertising profitability by country breakdown. Build LTV and ROI graphs, as well as LTV, CAC, and ROI dynamics graphs.\n",
    "- Analyze advertising profitability by advertising channel breakdown. Build LTV and ROI graphs, as well as LTV, CAC, and ROI dynamics graphs.\n",
    "\n",
    "Answer such questions:\n",
    "- Does advertising aimed at attracting users in general pay off?\n",
    "- What devices, countries, and advertising channels may have a negative impact on advertising profitability?\n",
    "- What could be the causes of profitability issues?"
   ]
  },
  {
   "cell_type": "markdown",
   "metadata": {
    "id": "hbNu9EXeWVwo"
   },
   "source": [
    "Let's establish the timeframe and scope of data analysis for the project. We assume the calendar date to be November 1st, 2019, and the business plan indicates that users should become profitable no later than two weeks after acquisition."
   ]
  },
  {
   "cell_type": "code",
   "execution_count": null,
   "metadata": {},
   "outputs": [],
   "source": [
    "observation_date = datetime(2019, 11, 1).date()  # момент анализа\n",
    "horizon_days = 14  # горизонт анализа"
   ]
  },
  {
   "cell_type": "code",
   "execution_count": null,
   "metadata": {},
   "outputs": [],
   "source": [
    "#уберем органических пользоваталей, так как они бесплатны\n",
    "profiles = profiles.query('channel !=\"organic\"')"
   ]
  },
  {
   "cell_type": "markdown",
   "metadata": {},
   "source": [
    "We will analyze the profitability of advertising using LTV and ROI charts, as well as charts of LTV, CAC, and ROI dynamics."
   ]
  },
  {
   "cell_type": "code",
   "execution_count": null,
   "metadata": {},
   "outputs": [],
   "source": [
    "# считаем LTV и ROI\n",
    "ltv_raw, ltv_grouped, ltv_history, roi_grouped, roi_history = get_ltv(\n",
    "    profiles, orders, observation_date, horizon_days\n",
    ")\n",
    "\n",
    "# строим графики\n",
    "plot_ltv_roi(ltv_grouped, ltv_history, roi_grouped, roi_history, horizon_days) "
   ]
  },
  {
   "cell_type": "markdown",
   "metadata": {},
   "source": [
    "Based on the charts, we can draw the following conclusions:\n",
    "\n",
    "- The advertising is not profitable. The ROI is always less than 1, although it was profitable in May.\n",
    "- CAC is unstable and constantly increasing.\n",
    "- LTV is relatively stable. Therefore, the problem is not with the quality of users.\n",
    "- The main issue lies with CAC, and we need to work on reducing the cost of acquiring users.\n",
    "\n",
    "We will also examine user conversion rates and their dynamics, as well as user retention rates."
   ]
  },
  {
   "cell_type": "code",
   "execution_count": null,
   "metadata": {},
   "outputs": [],
   "source": [
    "# смотрим конверсию\n",
    "\n",
    "conversion_raw, conversion_grouped, conversion_history = get_conversion(\n",
    "    profiles, orders, observation_date, horizon_days\n",
    ")\n",
    "\n",
    "plot_conversion(conversion_grouped, conversion_history, horizon_days) "
   ]
  },
  {
   "cell_type": "markdown",
   "metadata": {},
   "source": [
    "Conversion rates are increasing every day, which may be due to retention efforts."
   ]
  },
  {
   "cell_type": "code",
   "execution_count": null,
   "metadata": {},
   "outputs": [],
   "source": [
    "# смотрим удержание\n",
    "\n",
    "retention_raw, retention_grouped, retention_history = get_retention(\n",
    "    profiles, visits, observation_date, horizon_days\n",
    ")\n",
    "\n",
    "plot_retention(retention_grouped, retention_history, horizon_days) "
   ]
  },
  {
   "cell_type": "markdown",
   "metadata": {},
   "source": [
    "Retention rates are already declining on the second day.\n",
    "\n",
    "We will analyze the profitability of advertising broken down by device type. We will create LTV and ROI charts, as well as charts of LTV, CAC, and ROI dynamics."
   ]
  },
  {
   "cell_type": "code",
   "execution_count": null,
   "metadata": {},
   "outputs": [],
   "source": [
    "dimensions = ['device']\n",
    "\n",
    "ltv_raw, ltv_grouped, ltv_history, roi_grouped, roi_history = get_ltv(\n",
    "    profiles, orders, observation_date, horizon_days, dimensions=dimensions\n",
    ")\n",
    "\n",
    "plot_ltv_roi(\n",
    "    ltv_grouped, ltv_history, roi_grouped, roi_history, horizon_days, window=14\n",
    ") "
   ]
  },
  {
   "cell_type": "code",
   "execution_count": null,
   "metadata": {},
   "outputs": [],
   "source": [
    "#посмотрим на конверсию с разбивкой по устройствам \n",
    "dimensions = ['device']\n",
    "conversion_raw, conversion_grouped, conversion_history = get_conversion(\n",
    "    profiles, orders, observation_date, horizon_days, dimensions=dimensions\n",
    ")\n",
    "\n",
    "plot_conversion(conversion_grouped, conversion_history, horizon_days)"
   ]
  },
  {
   "cell_type": "code",
   "execution_count": null,
   "metadata": {},
   "outputs": [],
   "source": [
    "#посмотрим на удержание с разбивкой по устройствам \n",
    "\n",
    "dimensions = ['device']\n",
    "\n",
    "retention_raw, retention_grouped, retention_history = get_retention(\n",
    "    profiles, visits, observation_date, horizon_days, dimensions=dimensions\n",
    ")\n",
    "\n",
    "plot_retention(retention_grouped, retention_history, horizon_days) "
   ]
  },
  {
   "cell_type": "markdown",
   "metadata": {},
   "source": [
    "Based on the charts, we can draw several conclusions:\n",
    "\n",
    "- The cost of acquiring users for Mac and iPhone devices is the highest.\n",
    "- Device type has almost no effect on LTV.\n",
    "- Profitability is poor, with only PC becoming profitable on the 11th day, but even that stopped being profitable from September.\n",
    "- ROI for all devices began to decline from June.\n",
    "- The cost of acquiring users increases every month, especially for Mac and iPhone.\n",
    "- Conversion rates are highest for Mac and iPhone, but their dynamics are not significant.\n",
    "- Retention rates are better for PC, but retention for all sources declines rapidly after the second day."
   ]
  },
  {
   "cell_type": "markdown",
   "metadata": {},
   "source": [
    "We will analyze the profitability of advertising broken down by region."
   ]
  },
  {
   "cell_type": "code",
   "execution_count": null,
   "metadata": {},
   "outputs": [],
   "source": [
    "# считаем LTV и ROI с разбивкой по регионам \n",
    "\n",
    "dimensions = ['region']\n",
    "\n",
    "ltv_raw, ltv_grouped, ltv_history, roi_grouped, roi_history = get_ltv(\n",
    "    profiles, orders, observation_date, horizon_days, dimensions=dimensions\n",
    ")\n",
    "\n",
    "plot_ltv_roi(\n",
    "    ltv_grouped, ltv_history, roi_grouped, roi_history, horizon_days, window=14\n",
    ") "
   ]
  },
  {
   "cell_type": "code",
   "execution_count": null,
   "metadata": {},
   "outputs": [],
   "source": [
    "#посмотрим на конверсию с разбивкой по странам \n",
    "dimensions = ['region']\n",
    "conversion_raw, conversion_grouped, conversion_history = get_conversion(\n",
    "    profiles, orders, observation_date, horizon_days, dimensions=dimensions\n",
    ")\n",
    "\n",
    "plot_conversion(conversion_grouped, conversion_history, horizon_days)"
   ]
  },
  {
   "cell_type": "code",
   "execution_count": null,
   "metadata": {},
   "outputs": [],
   "source": [
    "#посмотрим на удержание с разбивкой по странам \n",
    "\n",
    "dimensions = ['region']\n",
    "\n",
    "retention_raw, retention_grouped, retention_history = get_retention(\n",
    "    profiles, visits, observation_date, horizon_days, dimensions=dimensions\n",
    ")\n",
    "\n",
    "plot_retention(retention_grouped, retention_history, horizon_days) "
   ]
  },
  {
   "cell_type": "markdown",
   "metadata": {},
   "source": [
    "Based on the charts, we can draw the following conclusions:\n",
    "- LTV is higher in the United States.\n",
    "- All countries except the United States become profitable by the fifth day.\n",
    "- The dynamics indicate that profitability has decreased in the United States since June.\n",
    "- The most representative CAC chart shows that the cost of acquiring users is decreasing for all countries except the United States since June.\n",
    "- Conversion rates for users in the United States are higher than for other countries and are constantly increasing.\n",
    "- Retention rates for users from the United States are declining rapidly every day."
   ]
  },
  {
   "cell_type": "markdown",
   "metadata": {},
   "source": [
    "Let's analyze the profitability of advertising with a breakdown by advertising channels."
   ]
  },
  {
   "cell_type": "code",
   "execution_count": null,
   "metadata": {},
   "outputs": [],
   "source": [
    "#смотрим окупаемость с разбивкой по рекламным каналам\n",
    "\n",
    "dimensions = ['channel']\n",
    "\n",
    "ltv_raw, ltv_grouped, ltv_history, roi_grouped, roi_history = get_ltv(\n",
    "    profiles, orders, observation_date, horizon_days, dimensions=dimensions\n",
    ")\n",
    "\n",
    "plot_ltv_roi(\n",
    "    ltv_grouped, ltv_history, roi_grouped, roi_history, horizon_days, window=14\n",
    ") "
   ]
  },
  {
   "cell_type": "code",
   "execution_count": null,
   "metadata": {},
   "outputs": [],
   "source": [
    "#посмотрим на конверсию с разбивкой по рекламным каналам \n",
    "dimensions = ['channel']\n",
    "conversion_raw, conversion_grouped, conversion_history = get_conversion(\n",
    "    profiles, orders, observation_date, horizon_days, dimensions=dimensions\n",
    ")\n",
    "\n",
    "plot_conversion(conversion_grouped, conversion_history, horizon_days)"
   ]
  },
  {
   "cell_type": "code",
   "execution_count": null,
   "metadata": {},
   "outputs": [],
   "source": [
    "#посмотрим на удержание с разбивкой по рекламным каналам  \n",
    "\n",
    "dimensions = ['channel']\n",
    "\n",
    "retention_raw, retention_grouped, retention_history = get_retention(\n",
    "    profiles, visits, observation_date, horizon_days, dimensions=dimensions\n",
    ")\n",
    "\n",
    "plot_retention(retention_grouped, retention_history, horizon_days) "
   ]
  },
  {
   "cell_type": "markdown",
   "metadata": {},
   "source": [
    "Conclusions from the graphs:\n",
    "- Three channels do not pay off even after 14 days: Tip-Top, Faceboom, AdNoneSense. At the same time, the main budget goes specifically to two of them: Tip-Top and Faceboom.\n",
    "- The conversion rate is highest for Faceboom and AdNoneSense, but the retention rate for these channels is the lowest.\n",
    "- Retention for all channels drops on the second day and tends to zero on the 14th."
   ]
  },
  {
   "cell_type": "markdown",
   "metadata": {},
   "source": [
    "We will also answer a few questions and summarize:\n",
    "- Does advertising aimed at attracting users in general pay off? No. The ROI is always below 1.\n",
    "- Which devices, countries, and advertising channels may have a negative impact on advertising profitability? In the first place, the US and advertising channels TipTop and FaceBoom have a negative impact. It is impossible to single out an outsider among the devices.\n",
    "- What could be causing profitability problems? About 50% of the budget goes to the least profitable channels and countries."
   ]
  },
  {
   "cell_type": "markdown",
   "metadata": {
    "id": "Jn9XBfZCWVwo"
   },
   "source": [
    "## Conclusion\n",
    "\n",
    "Based on the entire study, several main reasons why advertising does not pay off can be identified:\n",
    "- Low retention rate for the application as a whole, with most users leaving on the second day.\n",
    "- The most financially viable region, the United States, is not profitable compared to other countries. The cost of attracting users from the United States is constantly increasing, while retention of users from the United States is rapidly declining every day.\n",
    "- Three channels do not pay off even after 14 days: Tip-Top, Faceboom, AdNoneSense. At the same time, the main budget goes to two of them, Tip-Top and Faceboom. Sharp increase in CAC at Tip-Top. Decrease in retention for all channels on the second day. Faceboom and AdNoneSense have the lowest retention, which stands out against other channels.\n",
    "\n",
    "Here are some recommendations for the marketing department:\n",
    "- Review the advertising in the United States, study in detail which users affect the high CAC, perhaps this is the wrong gender, age, certain regions of the United States. Also find out why users from the United States are not returning to the application. Set up retargeting for old users, consider promotions, push notifications, or newsletters.\n",
    "- Expand geo: set up advertising for other countries in Europe (Scandinavian countries, Italy, Poland), increase the budget for current European countries (Germany, UK, and France), and consider alternative countries where users may have high activity, such as the Philippines, i.e., countries where English is widely spoken and the application is relevant.\n",
    "- Review advertising channels, increase the budget for the most profitable channels: YRabbit, MediaTornado, lambdaMediaAds, and reduce the budget for TipTop and FaceBoom. Review UTP and banners for these channels and conduct new tests.\n",
    "- Study what changes occurred in June, apart from the budget increases, that could have affected the deteriorating indicators, to avoid making mistakes again."
   ]
  }
 ],
 "metadata": {
  "ExecuteTimeLog": [
   {
    "duration": 733,
    "start_time": "2023-02-05T11:09:41.726Z"
   },
   {
    "duration": 1987,
    "start_time": "2023-02-05T11:11:07.117Z"
   },
   {
    "duration": 703,
    "start_time": "2023-02-05T11:11:40.854Z"
   },
   {
    "duration": 745,
    "start_time": "2023-02-05T11:13:00.874Z"
   },
   {
    "duration": 4,
    "start_time": "2023-02-05T11:17:49.965Z"
   },
   {
    "duration": 5,
    "start_time": "2023-02-05T11:18:55.738Z"
   },
   {
    "duration": 5,
    "start_time": "2023-02-05T11:19:49.182Z"
   },
   {
    "duration": 71,
    "start_time": "2023-02-05T11:20:01.365Z"
   },
   {
    "duration": 5,
    "start_time": "2023-02-05T11:20:11.105Z"
   },
   {
    "duration": 147,
    "start_time": "2023-02-05T11:21:24.357Z"
   },
   {
    "duration": 54,
    "start_time": "2023-02-05T11:27:43.319Z"
   },
   {
    "duration": 128,
    "start_time": "2023-02-05T11:28:59.854Z"
   },
   {
    "duration": 123,
    "start_time": "2023-02-05T11:29:07.591Z"
   },
   {
    "duration": 9,
    "start_time": "2023-02-05T11:29:16.210Z"
   },
   {
    "duration": 6,
    "start_time": "2023-02-05T11:29:20.532Z"
   },
   {
    "duration": 48,
    "start_time": "2023-02-05T11:32:16.479Z"
   },
   {
    "duration": 12,
    "start_time": "2023-02-05T11:33:00.069Z"
   },
   {
    "duration": 6,
    "start_time": "2023-02-05T11:35:20.302Z"
   },
   {
    "duration": 8,
    "start_time": "2023-02-05T11:37:30.606Z"
   },
   {
    "duration": 6,
    "start_time": "2023-02-05T11:37:57.751Z"
   },
   {
    "duration": 11,
    "start_time": "2023-02-05T11:38:56.007Z"
   },
   {
    "duration": 7,
    "start_time": "2023-02-05T11:39:55.091Z"
   },
   {
    "duration": 13,
    "start_time": "2023-02-05T11:40:11.249Z"
   },
   {
    "duration": 90,
    "start_time": "2023-02-05T11:43:34.407Z"
   },
   {
    "duration": 7,
    "start_time": "2023-02-05T11:44:58.213Z"
   },
   {
    "duration": 7,
    "start_time": "2023-02-05T11:44:58.791Z"
   },
   {
    "duration": 8,
    "start_time": "2023-02-05T11:44:59.308Z"
   },
   {
    "duration": 9,
    "start_time": "2023-02-05T11:44:59.769Z"
   },
   {
    "duration": 3,
    "start_time": "2023-02-05T11:45:00.275Z"
   },
   {
    "duration": 8,
    "start_time": "2023-02-05T11:45:00.754Z"
   },
   {
    "duration": 5,
    "start_time": "2023-02-05T11:45:01.191Z"
   },
   {
    "duration": 10,
    "start_time": "2023-02-05T11:45:01.716Z"
   },
   {
    "duration": 417,
    "start_time": "2023-02-05T11:45:02.720Z"
   },
   {
    "duration": 3,
    "start_time": "2023-02-05T11:49:28.080Z"
   },
   {
    "duration": 18,
    "start_time": "2023-02-05T11:55:33.635Z"
   },
   {
    "duration": 44,
    "start_time": "2023-02-05T11:58:33.606Z"
   },
   {
    "duration": 478,
    "start_time": "2023-02-05T11:58:40.816Z"
   },
   {
    "duration": 53,
    "start_time": "2023-02-05T12:07:56.327Z"
   },
   {
    "duration": 43,
    "start_time": "2023-02-05T12:08:06.676Z"
   },
   {
    "duration": 49,
    "start_time": "2023-02-05T12:08:27.083Z"
   },
   {
    "duration": 3,
    "start_time": "2023-02-05T12:08:33.179Z"
   },
   {
    "duration": 48,
    "start_time": "2023-02-05T12:08:34.258Z"
   },
   {
    "duration": 1439,
    "start_time": "2023-02-05T12:08:44.007Z"
   },
   {
    "duration": 4,
    "start_time": "2023-02-05T12:08:45.448Z"
   },
   {
    "duration": 190,
    "start_time": "2023-02-05T12:08:45.454Z"
   },
   {
    "duration": 136,
    "start_time": "2023-02-05T12:08:45.646Z"
   },
   {
    "duration": 14,
    "start_time": "2023-02-05T12:08:45.793Z"
   },
   {
    "duration": 6,
    "start_time": "2023-02-05T12:08:45.809Z"
   },
   {
    "duration": 12,
    "start_time": "2023-02-05T12:08:45.817Z"
   },
   {
    "duration": 7,
    "start_time": "2023-02-05T12:08:45.831Z"
   },
   {
    "duration": 10,
    "start_time": "2023-02-05T12:08:45.839Z"
   },
   {
    "duration": 9,
    "start_time": "2023-02-05T12:08:45.852Z"
   },
   {
    "duration": 51,
    "start_time": "2023-02-05T12:08:45.863Z"
   },
   {
    "duration": 7,
    "start_time": "2023-02-05T12:08:45.916Z"
   },
   {
    "duration": 9,
    "start_time": "2023-02-05T12:08:45.925Z"
   },
   {
    "duration": 9,
    "start_time": "2023-02-05T12:08:45.936Z"
   },
   {
    "duration": 17,
    "start_time": "2023-02-05T12:08:45.946Z"
   },
   {
    "duration": 533,
    "start_time": "2023-02-05T12:08:45.965Z"
   },
   {
    "duration": 7,
    "start_time": "2023-02-05T12:08:46.507Z"
   },
   {
    "duration": 75,
    "start_time": "2023-02-05T12:08:46.517Z"
   },
   {
    "duration": 21,
    "start_time": "2023-02-05T12:09:06.452Z"
   },
   {
    "duration": 51,
    "start_time": "2023-02-05T12:11:09.232Z"
   },
   {
    "duration": 17,
    "start_time": "2023-02-05T12:11:15.503Z"
   },
   {
    "duration": 17,
    "start_time": "2023-02-05T12:11:51.873Z"
   },
   {
    "duration": 16,
    "start_time": "2023-02-05T12:12:35.099Z"
   },
   {
    "duration": 50,
    "start_time": "2023-02-05T12:13:16.606Z"
   },
   {
    "duration": 57,
    "start_time": "2023-02-05T12:13:49.340Z"
   },
   {
    "duration": 51,
    "start_time": "2023-02-05T12:13:58.219Z"
   },
   {
    "duration": 17,
    "start_time": "2023-02-05T12:14:36.043Z"
   },
   {
    "duration": 16,
    "start_time": "2023-02-05T12:16:11.688Z"
   },
   {
    "duration": 18,
    "start_time": "2023-02-05T12:16:20.510Z"
   },
   {
    "duration": 33,
    "start_time": "2023-02-05T12:17:12.009Z"
   },
   {
    "duration": 946,
    "start_time": "2023-02-05T12:18:53.478Z"
   },
   {
    "duration": 16,
    "start_time": "2023-02-05T12:19:37.768Z"
   },
   {
    "duration": 17,
    "start_time": "2023-02-05T12:19:43.642Z"
   },
   {
    "duration": 16,
    "start_time": "2023-02-05T12:19:55.366Z"
   },
   {
    "duration": 21,
    "start_time": "2023-02-05T12:25:21.413Z"
   },
   {
    "duration": 17,
    "start_time": "2023-02-05T12:25:46.878Z"
   },
   {
    "duration": 54,
    "start_time": "2023-02-05T12:29:15.933Z"
   },
   {
    "duration": 17,
    "start_time": "2023-02-05T12:31:03.956Z"
   },
   {
    "duration": 5,
    "start_time": "2023-02-05T12:34:47.586Z"
   },
   {
    "duration": 5,
    "start_time": "2023-02-05T12:35:00.859Z"
   },
   {
    "duration": 5,
    "start_time": "2023-02-05T12:35:11.897Z"
   },
   {
    "duration": 48,
    "start_time": "2023-02-05T12:38:24.358Z"
   },
   {
    "duration": 10,
    "start_time": "2023-02-05T12:41:21.479Z"
   },
   {
    "duration": 12,
    "start_time": "2023-02-05T12:47:25.401Z"
   },
   {
    "duration": 12,
    "start_time": "2023-02-05T12:49:08.063Z"
   },
   {
    "duration": 11,
    "start_time": "2023-02-05T12:49:23.442Z"
   },
   {
    "duration": 13,
    "start_time": "2023-02-05T12:50:48.375Z"
   },
   {
    "duration": 61,
    "start_time": "2023-02-05T12:52:10.442Z"
   },
   {
    "duration": 8,
    "start_time": "2023-02-05T13:05:13.404Z"
   },
   {
    "duration": 20,
    "start_time": "2023-02-05T13:05:21.075Z"
   },
   {
    "duration": 26,
    "start_time": "2023-02-05T13:05:53.228Z"
   },
   {
    "duration": 22,
    "start_time": "2023-02-05T13:06:08.960Z"
   },
   {
    "duration": 3,
    "start_time": "2023-02-05T13:14:51.988Z"
   },
   {
    "duration": 2,
    "start_time": "2023-02-05T13:16:04.012Z"
   },
   {
    "duration": 15,
    "start_time": "2023-02-05T13:16:45.591Z"
   },
   {
    "duration": 53,
    "start_time": "2023-02-05T13:17:39.336Z"
   },
   {
    "duration": 1379,
    "start_time": "2023-02-05T13:18:08.750Z"
   },
   {
    "duration": 42,
    "start_time": "2023-02-05T13:23:44.677Z"
   },
   {
    "duration": 9,
    "start_time": "2023-02-05T13:26:13.141Z"
   },
   {
    "duration": 642,
    "start_time": "2023-02-05T13:27:13.693Z"
   },
   {
    "duration": 1024,
    "start_time": "2023-02-05T13:30:36.933Z"
   },
   {
    "duration": 1632,
    "start_time": "2023-02-05T13:46:06.821Z"
   },
   {
    "duration": 1786,
    "start_time": "2023-02-05T13:47:09.766Z"
   },
   {
    "duration": 2315,
    "start_time": "2023-02-05T14:04:29.812Z"
   },
   {
    "duration": 742,
    "start_time": "2023-02-05T14:08:39.019Z"
   },
   {
    "duration": 1317,
    "start_time": "2023-02-05T14:13:15.535Z"
   },
   {
    "duration": 48,
    "start_time": "2023-02-05T14:14:37.223Z"
   },
   {
    "duration": 1317,
    "start_time": "2023-02-05T14:15:06.502Z"
   },
   {
    "duration": 794,
    "start_time": "2023-02-05T14:15:17.582Z"
   },
   {
    "duration": 1345,
    "start_time": "2023-02-05T14:15:23.582Z"
   },
   {
    "duration": 48,
    "start_time": "2023-02-05T14:15:57.560Z"
   },
   {
    "duration": 60,
    "start_time": "2023-02-05T14:25:31.335Z"
   },
   {
    "duration": 1124,
    "start_time": "2023-02-05T14:29:27.164Z"
   },
   {
    "duration": 49,
    "start_time": "2023-02-05T14:36:19.877Z"
   },
   {
    "duration": 635,
    "start_time": "2023-02-05T15:06:37.764Z"
   },
   {
    "duration": 5,
    "start_time": "2023-02-05T15:06:39.289Z"
   },
   {
    "duration": 137,
    "start_time": "2023-02-05T15:06:40.715Z"
   },
   {
    "duration": 113,
    "start_time": "2023-02-05T15:06:42.718Z"
   },
   {
    "duration": 9,
    "start_time": "2023-02-05T15:06:43.589Z"
   },
   {
    "duration": 6,
    "start_time": "2023-02-05T15:06:44.532Z"
   },
   {
    "duration": 11,
    "start_time": "2023-02-05T15:06:52.062Z"
   },
   {
    "duration": 8,
    "start_time": "2023-02-05T15:19:25.040Z"
   },
   {
    "duration": 8,
    "start_time": "2023-02-05T15:19:26.083Z"
   },
   {
    "duration": 8,
    "start_time": "2023-02-05T15:19:26.790Z"
   },
   {
    "duration": 10,
    "start_time": "2023-02-05T15:19:27.368Z"
   },
   {
    "duration": 3,
    "start_time": "2023-02-05T15:19:28.059Z"
   },
   {
    "duration": 9,
    "start_time": "2023-02-05T15:19:28.650Z"
   },
   {
    "duration": 8,
    "start_time": "2023-02-05T15:19:29.228Z"
   },
   {
    "duration": 15,
    "start_time": "2023-02-05T15:19:30.173Z"
   },
   {
    "duration": 48,
    "start_time": "2023-02-05T15:26:29.004Z"
   },
   {
    "duration": 1375,
    "start_time": "2023-02-05T15:26:44.071Z"
   },
   {
    "duration": 4,
    "start_time": "2023-02-05T15:26:45.449Z"
   },
   {
    "duration": 188,
    "start_time": "2023-02-05T15:26:45.455Z"
   },
   {
    "duration": 164,
    "start_time": "2023-02-05T15:26:45.646Z"
   },
   {
    "duration": 10,
    "start_time": "2023-02-05T15:26:45.812Z"
   },
   {
    "duration": 7,
    "start_time": "2023-02-05T15:26:45.824Z"
   },
   {
    "duration": 12,
    "start_time": "2023-02-05T15:26:45.833Z"
   },
   {
    "duration": 7,
    "start_time": "2023-02-05T15:26:45.846Z"
   },
   {
    "duration": 37,
    "start_time": "2023-02-05T15:26:45.855Z"
   },
   {
    "duration": 8,
    "start_time": "2023-02-05T15:26:45.894Z"
   },
   {
    "duration": 11,
    "start_time": "2023-02-05T15:26:45.903Z"
   },
   {
    "duration": 18,
    "start_time": "2023-02-05T15:26:45.917Z"
   },
   {
    "duration": 13,
    "start_time": "2023-02-05T15:26:45.937Z"
   },
   {
    "duration": 12,
    "start_time": "2023-02-05T15:26:45.954Z"
   },
   {
    "duration": 25,
    "start_time": "2023-02-05T15:26:45.968Z"
   },
   {
    "duration": 525,
    "start_time": "2023-02-05T15:26:45.995Z"
   },
   {
    "duration": 3,
    "start_time": "2023-02-05T15:26:46.521Z"
   },
   {
    "duration": 44,
    "start_time": "2023-02-05T15:26:46.525Z"
   },
   {
    "duration": 39,
    "start_time": "2023-02-05T15:26:46.570Z"
   },
   {
    "duration": 18,
    "start_time": "2023-02-05T15:26:46.611Z"
   },
   {
    "duration": 53,
    "start_time": "2023-02-05T15:26:46.631Z"
   },
   {
    "duration": 0,
    "start_time": "2023-02-05T15:26:46.686Z"
   },
   {
    "duration": 0,
    "start_time": "2023-02-05T15:26:46.687Z"
   },
   {
    "duration": 0,
    "start_time": "2023-02-05T15:26:46.688Z"
   },
   {
    "duration": 0,
    "start_time": "2023-02-05T15:26:46.689Z"
   },
   {
    "duration": 0,
    "start_time": "2023-02-05T15:26:46.691Z"
   },
   {
    "duration": 0,
    "start_time": "2023-02-05T15:26:46.692Z"
   },
   {
    "duration": 0,
    "start_time": "2023-02-05T15:26:46.694Z"
   },
   {
    "duration": 0,
    "start_time": "2023-02-05T15:26:46.695Z"
   },
   {
    "duration": 0,
    "start_time": "2023-02-05T15:26:46.696Z"
   },
   {
    "duration": 0,
    "start_time": "2023-02-05T15:26:46.697Z"
   },
   {
    "duration": 0,
    "start_time": "2023-02-05T15:26:46.698Z"
   },
   {
    "duration": 0,
    "start_time": "2023-02-05T15:26:46.700Z"
   },
   {
    "duration": 0,
    "start_time": "2023-02-05T15:26:46.701Z"
   },
   {
    "duration": 0,
    "start_time": "2023-02-05T15:26:46.702Z"
   },
   {
    "duration": 5,
    "start_time": "2023-02-05T15:27:02.999Z"
   },
   {
    "duration": 13,
    "start_time": "2023-02-05T15:27:11.613Z"
   },
   {
    "duration": 16,
    "start_time": "2023-02-05T15:28:07.238Z"
   },
   {
    "duration": 140,
    "start_time": "2023-02-05T15:29:59.517Z"
   },
   {
    "duration": 3,
    "start_time": "2023-02-05T15:36:00.064Z"
   },
   {
    "duration": 19,
    "start_time": "2023-02-05T15:36:00.579Z"
   },
   {
    "duration": 3,
    "start_time": "2023-02-05T15:37:30.189Z"
   },
   {
    "duration": 17,
    "start_time": "2023-02-05T15:37:30.664Z"
   },
   {
    "duration": 1514,
    "start_time": "2023-02-05T15:37:31.615Z"
   },
   {
    "duration": 670,
    "start_time": "2023-02-05T15:37:57.300Z"
   },
   {
    "duration": 1155,
    "start_time": "2023-02-05T15:37:58.462Z"
   },
   {
    "duration": 1821,
    "start_time": "2023-02-05T15:38:00.837Z"
   },
   {
    "duration": 1848,
    "start_time": "2023-02-05T15:38:02.660Z"
   },
   {
    "duration": 787,
    "start_time": "2023-02-05T15:38:04.510Z"
   },
   {
    "duration": 1451,
    "start_time": "2023-02-05T15:38:05.300Z"
   },
   {
    "duration": 1655,
    "start_time": "2023-02-05T15:38:47.635Z"
   },
   {
    "duration": 1287,
    "start_time": "2023-02-05T15:39:10.592Z"
   },
   {
    "duration": 1307,
    "start_time": "2023-02-05T16:00:42.588Z"
   },
   {
    "duration": 4,
    "start_time": "2023-02-05T16:00:43.897Z"
   },
   {
    "duration": 162,
    "start_time": "2023-02-05T16:00:43.902Z"
   },
   {
    "duration": 125,
    "start_time": "2023-02-05T16:00:44.067Z"
   },
   {
    "duration": 11,
    "start_time": "2023-02-05T16:00:44.194Z"
   },
   {
    "duration": 12,
    "start_time": "2023-02-05T16:00:44.207Z"
   },
   {
    "duration": 19,
    "start_time": "2023-02-05T16:00:44.221Z"
   },
   {
    "duration": 6,
    "start_time": "2023-02-05T16:00:44.242Z"
   },
   {
    "duration": 19,
    "start_time": "2023-02-05T16:00:44.250Z"
   },
   {
    "duration": 11,
    "start_time": "2023-02-05T16:00:44.272Z"
   },
   {
    "duration": 23,
    "start_time": "2023-02-05T16:00:44.284Z"
   },
   {
    "duration": 19,
    "start_time": "2023-02-05T16:00:44.309Z"
   },
   {
    "duration": 8,
    "start_time": "2023-02-05T16:00:44.330Z"
   },
   {
    "duration": 25,
    "start_time": "2023-02-05T16:00:44.340Z"
   },
   {
    "duration": 20,
    "start_time": "2023-02-05T16:00:44.367Z"
   },
   {
    "duration": 454,
    "start_time": "2023-02-05T16:00:44.388Z"
   },
   {
    "duration": 3,
    "start_time": "2023-02-05T16:00:44.844Z"
   },
   {
    "duration": 48,
    "start_time": "2023-02-05T16:00:44.849Z"
   },
   {
    "duration": 22,
    "start_time": "2023-02-05T16:00:44.898Z"
   },
   {
    "duration": 19,
    "start_time": "2023-02-05T16:00:44.922Z"
   },
   {
    "duration": 5,
    "start_time": "2023-02-05T16:00:44.942Z"
   },
   {
    "duration": 14,
    "start_time": "2023-02-05T16:00:44.948Z"
   },
   {
    "duration": 181,
    "start_time": "2023-02-05T16:00:44.964Z"
   },
   {
    "duration": 18,
    "start_time": "2023-02-05T16:00:45.147Z"
   },
   {
    "duration": 3,
    "start_time": "2023-02-05T16:00:45.166Z"
   },
   {
    "duration": 29,
    "start_time": "2023-02-05T16:00:45.170Z"
   },
   {
    "duration": 1452,
    "start_time": "2023-02-05T16:00:45.201Z"
   },
   {
    "duration": 627,
    "start_time": "2023-02-05T16:00:46.656Z"
   },
   {
    "duration": 1050,
    "start_time": "2023-02-05T16:00:47.291Z"
   },
   {
    "duration": 1631,
    "start_time": "2023-02-05T16:00:48.343Z"
   },
   {
    "duration": 1727,
    "start_time": "2023-02-05T16:00:49.976Z"
   },
   {
    "duration": 733,
    "start_time": "2023-02-05T16:00:51.705Z"
   },
   {
    "duration": 1264,
    "start_time": "2023-02-05T16:00:52.440Z"
   },
   {
    "duration": 1722,
    "start_time": "2023-02-05T16:00:53.706Z"
   },
   {
    "duration": 1563,
    "start_time": "2023-02-05T16:24:12.890Z"
   },
   {
    "duration": 7,
    "start_time": "2023-02-05T16:24:14.455Z"
   },
   {
    "duration": 245,
    "start_time": "2023-02-05T16:24:14.465Z"
   },
   {
    "duration": 143,
    "start_time": "2023-02-05T16:24:14.713Z"
   },
   {
    "duration": 11,
    "start_time": "2023-02-05T16:24:14.858Z"
   },
   {
    "duration": 17,
    "start_time": "2023-02-05T16:24:14.871Z"
   },
   {
    "duration": 27,
    "start_time": "2023-02-05T16:24:14.890Z"
   },
   {
    "duration": 25,
    "start_time": "2023-02-05T16:24:14.919Z"
   },
   {
    "duration": 11,
    "start_time": "2023-02-05T16:24:14.946Z"
   },
   {
    "duration": 12,
    "start_time": "2023-02-05T16:24:14.960Z"
   },
   {
    "duration": 15,
    "start_time": "2023-02-05T16:24:14.974Z"
   },
   {
    "duration": 29,
    "start_time": "2023-02-05T16:24:14.991Z"
   },
   {
    "duration": 22,
    "start_time": "2023-02-05T16:24:15.022Z"
   },
   {
    "duration": 24,
    "start_time": "2023-02-05T16:24:15.046Z"
   },
   {
    "duration": 17,
    "start_time": "2023-02-05T16:24:15.072Z"
   },
   {
    "duration": 526,
    "start_time": "2023-02-05T16:24:15.091Z"
   },
   {
    "duration": 4,
    "start_time": "2023-02-05T16:24:15.619Z"
   },
   {
    "duration": 53,
    "start_time": "2023-02-05T16:24:15.625Z"
   },
   {
    "duration": 18,
    "start_time": "2023-02-05T16:24:15.680Z"
   },
   {
    "duration": 45,
    "start_time": "2023-02-05T16:24:15.700Z"
   },
   {
    "duration": 6,
    "start_time": "2023-02-05T16:24:15.747Z"
   },
   {
    "duration": 15,
    "start_time": "2023-02-05T16:24:15.755Z"
   },
   {
    "duration": 203,
    "start_time": "2023-02-05T16:24:15.772Z"
   },
   {
    "duration": 27,
    "start_time": "2023-02-05T16:24:15.977Z"
   },
   {
    "duration": 2,
    "start_time": "2023-02-05T16:24:16.006Z"
   },
   {
    "duration": 45,
    "start_time": "2023-02-05T16:24:16.011Z"
   },
   {
    "duration": 1581,
    "start_time": "2023-02-05T16:24:16.059Z"
   },
   {
    "duration": 726,
    "start_time": "2023-02-05T16:24:17.645Z"
   },
   {
    "duration": 1392,
    "start_time": "2023-02-05T16:24:18.372Z"
   },
   {
    "duration": 1953,
    "start_time": "2023-02-05T16:24:19.766Z"
   },
   {
    "duration": 2071,
    "start_time": "2023-02-05T16:24:21.721Z"
   },
   {
    "duration": 813,
    "start_time": "2023-02-05T16:24:23.794Z"
   },
   {
    "duration": 1416,
    "start_time": "2023-02-05T16:24:24.609Z"
   },
   {
    "duration": 2029,
    "start_time": "2023-02-05T16:24:26.027Z"
   },
   {
    "duration": 737,
    "start_time": "2023-02-05T18:29:45.319Z"
   },
   {
    "duration": 4,
    "start_time": "2023-02-05T18:30:07.244Z"
   },
   {
    "duration": 2047,
    "start_time": "2023-02-05T18:30:21.038Z"
   },
   {
    "duration": 19,
    "start_time": "2023-02-05T18:31:53.380Z"
   },
   {
    "duration": 20,
    "start_time": "2023-02-05T18:32:33.321Z"
   },
   {
    "duration": 20,
    "start_time": "2023-02-05T18:32:46.116Z"
   },
   {
    "duration": 17,
    "start_time": "2023-02-05T18:32:51.696Z"
   },
   {
    "duration": 67,
    "start_time": "2023-02-05T18:34:16.650Z"
   },
   {
    "duration": 6,
    "start_time": "2023-02-05T18:34:28.146Z"
   },
   {
    "duration": 6,
    "start_time": "2023-02-05T18:34:28.369Z"
   },
   {
    "duration": 9,
    "start_time": "2023-02-05T18:34:28.580Z"
   },
   {
    "duration": 9,
    "start_time": "2023-02-05T18:34:28.747Z"
   },
   {
    "duration": 4,
    "start_time": "2023-02-05T18:34:28.937Z"
   },
   {
    "duration": 8,
    "start_time": "2023-02-05T18:34:29.117Z"
   },
   {
    "duration": 5,
    "start_time": "2023-02-05T18:34:29.268Z"
   },
   {
    "duration": 10,
    "start_time": "2023-02-05T18:34:29.443Z"
   },
   {
    "duration": 14,
    "start_time": "2023-02-05T18:34:31.367Z"
   },
   {
    "duration": 11,
    "start_time": "2023-02-05T18:34:40.225Z"
   },
   {
    "duration": 563,
    "start_time": "2023-02-05T18:35:08.648Z"
   },
   {
    "duration": 638,
    "start_time": "2023-02-05T18:35:09.212Z"
   },
   {
    "duration": 5,
    "start_time": "2023-02-05T18:35:09.851Z"
   },
   {
    "duration": 152,
    "start_time": "2023-02-05T18:35:09.857Z"
   },
   {
    "duration": 145,
    "start_time": "2023-02-05T18:35:10.011Z"
   },
   {
    "duration": 10,
    "start_time": "2023-02-05T18:35:10.157Z"
   },
   {
    "duration": 7,
    "start_time": "2023-02-05T18:35:10.168Z"
   },
   {
    "duration": 19,
    "start_time": "2023-02-05T18:35:10.176Z"
   },
   {
    "duration": 6,
    "start_time": "2023-02-05T18:35:10.196Z"
   },
   {
    "duration": 10,
    "start_time": "2023-02-05T18:35:10.204Z"
   },
   {
    "duration": 15,
    "start_time": "2023-02-05T18:35:10.215Z"
   },
   {
    "duration": 12,
    "start_time": "2023-02-05T18:35:10.231Z"
   },
   {
    "duration": 8,
    "start_time": "2023-02-05T18:35:10.245Z"
   },
   {
    "duration": 13,
    "start_time": "2023-02-05T18:35:10.254Z"
   },
   {
    "duration": 11,
    "start_time": "2023-02-05T18:35:10.268Z"
   },
   {
    "duration": 9,
    "start_time": "2023-02-05T18:35:10.281Z"
   },
   {
    "duration": 535,
    "start_time": "2023-02-05T18:35:10.292Z"
   },
   {
    "duration": 3,
    "start_time": "2023-02-05T18:35:10.828Z"
   },
   {
    "duration": 47,
    "start_time": "2023-02-05T18:35:10.833Z"
   },
   {
    "duration": 15,
    "start_time": "2023-02-05T18:35:10.882Z"
   },
   {
    "duration": 35,
    "start_time": "2023-02-05T18:35:10.899Z"
   },
   {
    "duration": 3,
    "start_time": "2023-02-05T18:35:10.936Z"
   },
   {
    "duration": 10,
    "start_time": "2023-02-05T18:35:10.941Z"
   },
   {
    "duration": 154,
    "start_time": "2023-02-05T18:35:10.952Z"
   },
   {
    "duration": 23,
    "start_time": "2023-02-05T18:35:11.108Z"
   },
   {
    "duration": 4,
    "start_time": "2023-02-05T18:35:11.132Z"
   },
   {
    "duration": 17,
    "start_time": "2023-02-05T18:35:11.137Z"
   },
   {
    "duration": 1420,
    "start_time": "2023-02-05T18:35:11.157Z"
   },
   {
    "duration": 1062,
    "start_time": "2023-02-05T18:35:12.578Z"
   },
   {
    "duration": 2125,
    "start_time": "2023-02-05T18:35:13.641Z"
   },
   {
    "duration": 2050,
    "start_time": "2023-02-05T18:35:15.768Z"
   },
   {
    "duration": 1678,
    "start_time": "2023-02-05T18:35:17.827Z"
   },
   {
    "duration": 674,
    "start_time": "2023-02-05T18:35:19.507Z"
   },
   {
    "duration": 1156,
    "start_time": "2023-02-05T18:35:20.182Z"
   },
   {
    "duration": 1646,
    "start_time": "2023-02-05T18:35:21.339Z"
   },
   {
    "duration": 9,
    "start_time": "2023-02-05T18:36:01.715Z"
   },
   {
    "duration": 8,
    "start_time": "2023-02-05T18:36:10.045Z"
   },
   {
    "duration": 12,
    "start_time": "2023-02-05T18:36:43.228Z"
   },
   {
    "duration": 23,
    "start_time": "2023-02-05T18:36:51.240Z"
   },
   {
    "duration": 76,
    "start_time": "2023-02-05T21:00:37.269Z"
   },
   {
    "duration": 1035,
    "start_time": "2023-02-05T21:00:44.325Z"
   },
   {
    "duration": 2387,
    "start_time": "2023-02-05T21:00:45.362Z"
   },
   {
    "duration": 5,
    "start_time": "2023-02-05T21:00:47.753Z"
   },
   {
    "duration": 271,
    "start_time": "2023-02-05T21:00:47.761Z"
   },
   {
    "duration": 205,
    "start_time": "2023-02-05T21:00:48.034Z"
   },
   {
    "duration": 12,
    "start_time": "2023-02-05T21:00:48.241Z"
   },
   {
    "duration": 20,
    "start_time": "2023-02-05T21:00:48.255Z"
   },
   {
    "duration": 51,
    "start_time": "2023-02-05T21:00:48.277Z"
   },
   {
    "duration": 8,
    "start_time": "2023-02-05T21:00:48.331Z"
   },
   {
    "duration": 21,
    "start_time": "2023-02-05T21:00:48.343Z"
   },
   {
    "duration": 19,
    "start_time": "2023-02-05T21:00:48.366Z"
   },
   {
    "duration": 30,
    "start_time": "2023-02-05T21:00:48.387Z"
   },
   {
    "duration": 19,
    "start_time": "2023-02-05T21:00:48.420Z"
   },
   {
    "duration": 15,
    "start_time": "2023-02-05T21:00:48.441Z"
   },
   {
    "duration": 14,
    "start_time": "2023-02-05T21:00:48.458Z"
   },
   {
    "duration": 17,
    "start_time": "2023-02-05T21:00:48.474Z"
   },
   {
    "duration": 573,
    "start_time": "2023-02-05T21:00:48.493Z"
   },
   {
    "duration": 26,
    "start_time": "2023-02-05T21:00:49.068Z"
   },
   {
    "duration": 61,
    "start_time": "2023-02-05T21:00:49.096Z"
   },
   {
    "duration": 22,
    "start_time": "2023-02-05T21:00:49.159Z"
   },
   {
    "duration": 35,
    "start_time": "2023-02-05T21:00:49.183Z"
   },
   {
    "duration": 6,
    "start_time": "2023-02-05T21:00:49.220Z"
   },
   {
    "duration": 13,
    "start_time": "2023-02-05T21:00:49.239Z"
   },
   {
    "duration": 241,
    "start_time": "2023-02-05T21:00:49.254Z"
   },
   {
    "duration": 42,
    "start_time": "2023-02-05T21:00:49.497Z"
   },
   {
    "duration": 3,
    "start_time": "2023-02-05T21:00:49.542Z"
   },
   {
    "duration": 35,
    "start_time": "2023-02-05T21:00:49.547Z"
   },
   {
    "duration": 3089,
    "start_time": "2023-02-05T21:00:49.587Z"
   },
   {
    "duration": 1601,
    "start_time": "2023-02-05T21:00:52.678Z"
   },
   {
    "duration": 2189,
    "start_time": "2023-02-05T21:00:54.281Z"
   },
   {
    "duration": 2004,
    "start_time": "2023-02-05T21:00:56.472Z"
   },
   {
    "duration": 2218,
    "start_time": "2023-02-05T21:00:58.478Z"
   },
   {
    "duration": 896,
    "start_time": "2023-02-05T21:01:00.698Z"
   },
   {
    "duration": 1695,
    "start_time": "2023-02-05T21:01:01.597Z"
   },
   {
    "duration": 2137,
    "start_time": "2023-02-05T21:01:03.295Z"
   },
   {
    "duration": 24,
    "start_time": "2023-02-05T21:02:05.133Z"
   },
   {
    "duration": 29,
    "start_time": "2023-02-05T21:02:12.628Z"
   },
   {
    "duration": 25,
    "start_time": "2023-02-05T21:02:33.548Z"
   },
   {
    "duration": 26,
    "start_time": "2023-02-05T21:04:44.198Z"
   },
   {
    "duration": 63,
    "start_time": "2023-02-05T21:05:12.647Z"
   },
   {
    "duration": 46,
    "start_time": "2023-02-05T21:05:21.597Z"
   },
   {
    "duration": 23,
    "start_time": "2023-02-05T21:05:33.761Z"
   },
   {
    "duration": 27,
    "start_time": "2023-02-05T21:06:33.761Z"
   },
   {
    "duration": 130,
    "start_time": "2023-02-05T21:07:15.712Z"
   },
   {
    "duration": 29,
    "start_time": "2023-02-05T21:07:29.061Z"
   },
   {
    "duration": 31,
    "start_time": "2023-02-05T21:11:08.106Z"
   },
   {
    "duration": 26,
    "start_time": "2023-02-05T21:11:18.133Z"
   },
   {
    "duration": 25,
    "start_time": "2023-02-05T21:12:02.036Z"
   },
   {
    "duration": 27,
    "start_time": "2023-02-05T21:12:47.557Z"
   },
   {
    "duration": 49,
    "start_time": "2023-02-05T21:13:17.153Z"
   },
   {
    "duration": 16,
    "start_time": "2023-02-05T21:13:22.701Z"
   },
   {
    "duration": 15,
    "start_time": "2023-02-05T21:13:35.813Z"
   },
   {
    "duration": 15,
    "start_time": "2023-02-05T21:13:42.134Z"
   },
   {
    "duration": 24,
    "start_time": "2023-02-05T21:13:48.766Z"
   },
   {
    "duration": 18,
    "start_time": "2023-02-05T21:13:49.439Z"
   },
   {
    "duration": 647,
    "start_time": "2023-02-05T21:13:54.965Z"
   },
   {
    "duration": 761,
    "start_time": "2023-02-05T21:13:55.614Z"
   },
   {
    "duration": 5,
    "start_time": "2023-02-05T21:13:56.377Z"
   },
   {
    "duration": 213,
    "start_time": "2023-02-05T21:13:56.384Z"
   },
   {
    "duration": 142,
    "start_time": "2023-02-05T21:13:56.599Z"
   },
   {
    "duration": 10,
    "start_time": "2023-02-05T21:13:56.743Z"
   },
   {
    "duration": 6,
    "start_time": "2023-02-05T21:13:56.755Z"
   },
   {
    "duration": 25,
    "start_time": "2023-02-05T21:13:56.762Z"
   },
   {
    "duration": 7,
    "start_time": "2023-02-05T21:13:56.789Z"
   },
   {
    "duration": 39,
    "start_time": "2023-02-05T21:13:56.799Z"
   },
   {
    "duration": 11,
    "start_time": "2023-02-05T21:13:56.841Z"
   },
   {
    "duration": 14,
    "start_time": "2023-02-05T21:13:56.854Z"
   },
   {
    "duration": 12,
    "start_time": "2023-02-05T21:13:56.870Z"
   },
   {
    "duration": 15,
    "start_time": "2023-02-05T21:13:56.884Z"
   },
   {
    "duration": 18,
    "start_time": "2023-02-05T21:13:56.901Z"
   },
   {
    "duration": 19,
    "start_time": "2023-02-05T21:13:56.921Z"
   },
   {
    "duration": 536,
    "start_time": "2023-02-05T21:13:56.942Z"
   },
   {
    "duration": 21,
    "start_time": "2023-02-05T21:13:57.480Z"
   },
   {
    "duration": 36,
    "start_time": "2023-02-05T21:13:57.503Z"
   },
   {
    "duration": 101,
    "start_time": "2023-02-05T21:13:57.541Z"
   },
   {
    "duration": 0,
    "start_time": "2023-02-05T21:13:57.645Z"
   },
   {
    "duration": 0,
    "start_time": "2023-02-05T21:13:57.645Z"
   },
   {
    "duration": 0,
    "start_time": "2023-02-05T21:13:57.647Z"
   },
   {
    "duration": 0,
    "start_time": "2023-02-05T21:13:57.648Z"
   },
   {
    "duration": 0,
    "start_time": "2023-02-05T21:13:57.649Z"
   },
   {
    "duration": 0,
    "start_time": "2023-02-05T21:13:57.652Z"
   },
   {
    "duration": 0,
    "start_time": "2023-02-05T21:13:57.653Z"
   },
   {
    "duration": 0,
    "start_time": "2023-02-05T21:13:57.654Z"
   },
   {
    "duration": 0,
    "start_time": "2023-02-05T21:13:57.656Z"
   },
   {
    "duration": 0,
    "start_time": "2023-02-05T21:13:57.657Z"
   },
   {
    "duration": 0,
    "start_time": "2023-02-05T21:13:57.658Z"
   },
   {
    "duration": 0,
    "start_time": "2023-02-05T21:13:57.659Z"
   },
   {
    "duration": 0,
    "start_time": "2023-02-05T21:13:57.661Z"
   },
   {
    "duration": 0,
    "start_time": "2023-02-05T21:13:57.662Z"
   },
   {
    "duration": 0,
    "start_time": "2023-02-05T21:13:57.663Z"
   },
   {
    "duration": 0,
    "start_time": "2023-02-05T21:13:57.665Z"
   },
   {
    "duration": 17,
    "start_time": "2023-02-05T21:14:11.576Z"
   },
   {
    "duration": 25,
    "start_time": "2023-02-05T21:14:37.081Z"
   },
   {
    "duration": 19,
    "start_time": "2023-02-05T21:14:49.814Z"
   },
   {
    "duration": 662,
    "start_time": "2023-02-05T21:15:01.171Z"
   },
   {
    "duration": 845,
    "start_time": "2023-02-05T21:15:01.835Z"
   },
   {
    "duration": 6,
    "start_time": "2023-02-05T21:15:02.682Z"
   },
   {
    "duration": 208,
    "start_time": "2023-02-05T21:15:02.691Z"
   },
   {
    "duration": 151,
    "start_time": "2023-02-05T21:15:02.901Z"
   },
   {
    "duration": 10,
    "start_time": "2023-02-05T21:15:03.055Z"
   },
   {
    "duration": 34,
    "start_time": "2023-02-05T21:15:03.067Z"
   },
   {
    "duration": 32,
    "start_time": "2023-02-05T21:15:03.103Z"
   },
   {
    "duration": 12,
    "start_time": "2023-02-05T21:15:03.137Z"
   },
   {
    "duration": 49,
    "start_time": "2023-02-05T21:15:03.152Z"
   },
   {
    "duration": 23,
    "start_time": "2023-02-05T21:15:03.203Z"
   },
   {
    "duration": 23,
    "start_time": "2023-02-05T21:15:03.228Z"
   },
   {
    "duration": 19,
    "start_time": "2023-02-05T21:15:03.254Z"
   },
   {
    "duration": 14,
    "start_time": "2023-02-05T21:15:03.275Z"
   },
   {
    "duration": 19,
    "start_time": "2023-02-05T21:15:03.291Z"
   },
   {
    "duration": 21,
    "start_time": "2023-02-05T21:15:03.313Z"
   },
   {
    "duration": 560,
    "start_time": "2023-02-05T21:15:03.335Z"
   },
   {
    "duration": 23,
    "start_time": "2023-02-05T21:15:03.897Z"
   },
   {
    "duration": 19,
    "start_time": "2023-02-05T21:15:03.937Z"
   },
   {
    "duration": 113,
    "start_time": "2023-02-05T21:15:03.958Z"
   },
   {
    "duration": 0,
    "start_time": "2023-02-05T21:15:04.073Z"
   },
   {
    "duration": 0,
    "start_time": "2023-02-05T21:15:04.075Z"
   },
   {
    "duration": 0,
    "start_time": "2023-02-05T21:15:04.076Z"
   },
   {
    "duration": 0,
    "start_time": "2023-02-05T21:15:04.078Z"
   },
   {
    "duration": 0,
    "start_time": "2023-02-05T21:15:04.079Z"
   },
   {
    "duration": 0,
    "start_time": "2023-02-05T21:15:04.081Z"
   },
   {
    "duration": 0,
    "start_time": "2023-02-05T21:15:04.082Z"
   },
   {
    "duration": 0,
    "start_time": "2023-02-05T21:15:04.083Z"
   },
   {
    "duration": 0,
    "start_time": "2023-02-05T21:15:04.085Z"
   },
   {
    "duration": 0,
    "start_time": "2023-02-05T21:15:04.087Z"
   },
   {
    "duration": 0,
    "start_time": "2023-02-05T21:15:04.089Z"
   },
   {
    "duration": 0,
    "start_time": "2023-02-05T21:15:04.091Z"
   },
   {
    "duration": 0,
    "start_time": "2023-02-05T21:15:04.092Z"
   },
   {
    "duration": 0,
    "start_time": "2023-02-05T21:15:04.094Z"
   },
   {
    "duration": 0,
    "start_time": "2023-02-05T21:15:04.096Z"
   },
   {
    "duration": 0,
    "start_time": "2023-02-05T21:15:04.097Z"
   },
   {
    "duration": 26,
    "start_time": "2023-02-05T21:15:21.938Z"
   },
   {
    "duration": 47,
    "start_time": "2023-02-05T21:15:55.706Z"
   },
   {
    "duration": 57,
    "start_time": "2023-02-05T21:16:58.223Z"
   },
   {
    "duration": 29,
    "start_time": "2023-02-05T21:17:11.782Z"
   },
   {
    "duration": 46,
    "start_time": "2023-02-05T21:17:42.589Z"
   },
   {
    "duration": 59,
    "start_time": "2023-02-05T21:17:54.120Z"
   },
   {
    "duration": 27,
    "start_time": "2023-02-05T21:18:05.302Z"
   },
   {
    "duration": 29,
    "start_time": "2023-02-05T21:19:18.306Z"
   },
   {
    "duration": 30,
    "start_time": "2023-02-05T21:19:28.872Z"
   },
   {
    "duration": 42,
    "start_time": "2023-02-05T21:20:46.985Z"
   },
   {
    "duration": 30,
    "start_time": "2023-02-05T21:21:00.483Z"
   },
   {
    "duration": 30,
    "start_time": "2023-02-05T21:22:00.782Z"
   },
   {
    "duration": 14,
    "start_time": "2023-02-05T21:38:35.063Z"
   },
   {
    "duration": 697,
    "start_time": "2023-02-05T21:41:27.461Z"
   },
   {
    "duration": 15,
    "start_time": "2023-02-05T21:41:41.085Z"
   },
   {
    "duration": 4,
    "start_time": "2023-02-05T21:41:47.604Z"
   },
   {
    "duration": 10,
    "start_time": "2023-02-05T21:41:49.550Z"
   },
   {
    "duration": 14,
    "start_time": "2023-02-05T21:42:01.922Z"
   },
   {
    "duration": 16,
    "start_time": "2023-02-05T21:42:17.430Z"
   },
   {
    "duration": 32,
    "start_time": "2023-02-05T21:43:39.720Z"
   },
   {
    "duration": 15,
    "start_time": "2023-02-05T21:43:49.143Z"
   },
   {
    "duration": 161,
    "start_time": "2023-02-05T21:44:46.226Z"
   },
   {
    "duration": 388,
    "start_time": "2023-02-05T21:46:34.113Z"
   },
   {
    "duration": 532,
    "start_time": "2023-02-05T21:46:56.440Z"
   },
   {
    "duration": 47,
    "start_time": "2023-02-05T21:49:49.916Z"
   },
   {
    "duration": 53,
    "start_time": "2023-02-05T21:50:13.644Z"
   },
   {
    "duration": 50,
    "start_time": "2023-02-05T21:50:24.605Z"
   },
   {
    "duration": 22,
    "start_time": "2023-02-05T21:50:44.195Z"
   },
   {
    "duration": 22,
    "start_time": "2023-02-05T21:52:45.663Z"
   },
   {
    "duration": 16,
    "start_time": "2023-02-05T21:53:29.564Z"
   },
   {
    "duration": 21,
    "start_time": "2023-02-05T21:54:55.404Z"
   },
   {
    "duration": 702,
    "start_time": "2023-02-05T21:55:02.606Z"
   },
   {
    "duration": 607,
    "start_time": "2023-02-05T21:55:26.521Z"
   },
   {
    "duration": 544,
    "start_time": "2023-02-05T21:58:47.347Z"
   },
   {
    "duration": 23,
    "start_time": "2023-02-05T21:59:07.360Z"
   },
   {
    "duration": 792,
    "start_time": "2023-02-05T21:59:13.003Z"
   },
   {
    "duration": 16,
    "start_time": "2023-02-05T22:02:37.752Z"
   },
   {
    "duration": 16,
    "start_time": "2023-02-05T22:06:06.019Z"
   },
   {
    "duration": 414,
    "start_time": "2023-02-05T22:06:40.464Z"
   },
   {
    "duration": 414,
    "start_time": "2023-02-05T22:07:44.661Z"
   },
   {
    "duration": 4829,
    "start_time": "2023-02-05T22:08:02.078Z"
   },
   {
    "duration": 32,
    "start_time": "2023-02-05T22:08:17.053Z"
   },
   {
    "duration": 32,
    "start_time": "2023-02-05T22:08:29.530Z"
   },
   {
    "duration": 5193,
    "start_time": "2023-02-05T22:08:43.902Z"
   },
   {
    "duration": 4764,
    "start_time": "2023-02-05T22:09:01.662Z"
   },
   {
    "duration": 22,
    "start_time": "2023-02-05T22:09:28.722Z"
   },
   {
    "duration": 5127,
    "start_time": "2023-02-05T22:09:40.896Z"
   },
   {
    "duration": 4926,
    "start_time": "2023-02-05T22:09:49.261Z"
   },
   {
    "duration": 15,
    "start_time": "2023-02-05T22:12:02.945Z"
   },
   {
    "duration": 4195,
    "start_time": "2023-02-05T22:12:08.967Z"
   },
   {
    "duration": 18,
    "start_time": "2023-02-05T22:14:44.485Z"
   },
   {
    "duration": 15,
    "start_time": "2023-02-05T22:15:03.306Z"
   },
   {
    "duration": 9,
    "start_time": "2023-02-05T22:15:30.598Z"
   },
   {
    "duration": 18,
    "start_time": "2023-02-05T22:15:39.256Z"
   },
   {
    "duration": 19,
    "start_time": "2023-02-05T22:16:23.405Z"
   },
   {
    "duration": 16,
    "start_time": "2023-02-05T22:16:36.312Z"
   },
   {
    "duration": 21,
    "start_time": "2023-02-05T22:16:45.743Z"
   },
   {
    "duration": 17,
    "start_time": "2023-02-05T22:24:24.643Z"
   },
   {
    "duration": 15,
    "start_time": "2023-02-05T22:25:05.196Z"
   },
   {
    "duration": 16,
    "start_time": "2023-02-05T22:25:45.916Z"
   },
   {
    "duration": 12,
    "start_time": "2023-02-05T22:26:11.653Z"
   },
   {
    "duration": 12,
    "start_time": "2023-02-05T22:28:00.764Z"
   },
   {
    "duration": 12,
    "start_time": "2023-02-05T22:28:15.322Z"
   },
   {
    "duration": 28,
    "start_time": "2023-02-05T22:32:33.686Z"
   },
   {
    "duration": 64,
    "start_time": "2023-02-05T22:33:02.441Z"
   },
   {
    "duration": 8791,
    "start_time": "2023-02-05T22:33:43.577Z"
   },
   {
    "duration": 8088,
    "start_time": "2023-02-05T22:34:17.332Z"
   },
   {
    "duration": 75,
    "start_time": "2023-02-05T22:35:02.973Z"
   },
   {
    "duration": 415,
    "start_time": "2023-02-05T22:38:02.109Z"
   },
   {
    "duration": 520,
    "start_time": "2023-02-05T22:39:23.396Z"
   },
   {
    "duration": 20,
    "start_time": "2023-02-05T22:41:47.748Z"
   },
   {
    "duration": 12,
    "start_time": "2023-02-05T22:41:58.600Z"
   },
   {
    "duration": 26,
    "start_time": "2023-02-05T22:42:16.739Z"
   },
   {
    "duration": 8039,
    "start_time": "2023-02-05T22:43:15.846Z"
   },
   {
    "duration": 164,
    "start_time": "2023-02-05T22:49:59.781Z"
   },
   {
    "duration": 331,
    "start_time": "2023-02-05T22:51:02.654Z"
   },
   {
    "duration": 342,
    "start_time": "2023-02-05T22:51:30.831Z"
   },
   {
    "duration": 12,
    "start_time": "2023-02-05T22:53:32.633Z"
   },
   {
    "duration": 494,
    "start_time": "2023-02-05T22:53:33.632Z"
   },
   {
    "duration": 1030,
    "start_time": "2023-02-05T22:54:37.983Z"
   },
   {
    "duration": 1052,
    "start_time": "2023-02-05T22:55:04.013Z"
   },
   {
    "duration": 638,
    "start_time": "2023-02-05T22:55:20.443Z"
   },
   {
    "duration": 664,
    "start_time": "2023-02-05T22:55:36.210Z"
   },
   {
    "duration": 704,
    "start_time": "2023-02-05T22:55:42.163Z"
   },
   {
    "duration": 34,
    "start_time": "2023-02-05T22:55:49.369Z"
   },
   {
    "duration": 661,
    "start_time": "2023-02-05T22:55:54.993Z"
   },
   {
    "duration": 686,
    "start_time": "2023-02-05T22:56:06.854Z"
   },
   {
    "duration": 374,
    "start_time": "2023-02-05T22:56:17.508Z"
   },
   {
    "duration": 638,
    "start_time": "2023-02-05T22:56:31.177Z"
   },
   {
    "duration": 655,
    "start_time": "2023-02-05T22:56:50.348Z"
   },
   {
    "duration": 4,
    "start_time": "2023-02-05T23:03:21.116Z"
   },
   {
    "duration": 6,
    "start_time": "2023-02-05T23:03:27.544Z"
   },
   {
    "duration": 7,
    "start_time": "2023-02-05T23:03:39.033Z"
   },
   {
    "duration": 26,
    "start_time": "2023-02-05T23:03:43.650Z"
   },
   {
    "duration": 5,
    "start_time": "2023-02-05T23:04:38.685Z"
   },
   {
    "duration": 733,
    "start_time": "2023-02-06T16:13:50.655Z"
   },
   {
    "duration": 1213,
    "start_time": "2023-02-06T16:13:51.390Z"
   },
   {
    "duration": 4,
    "start_time": "2023-02-06T16:13:52.605Z"
   },
   {
    "duration": 157,
    "start_time": "2023-02-06T16:13:52.612Z"
   },
   {
    "duration": 128,
    "start_time": "2023-02-06T16:13:52.771Z"
   },
   {
    "duration": 10,
    "start_time": "2023-02-06T16:13:52.901Z"
   },
   {
    "duration": 7,
    "start_time": "2023-02-06T16:13:52.913Z"
   },
   {
    "duration": 20,
    "start_time": "2023-02-06T16:13:52.921Z"
   },
   {
    "duration": 6,
    "start_time": "2023-02-06T16:13:52.943Z"
   },
   {
    "duration": 7,
    "start_time": "2023-02-06T16:13:52.952Z"
   },
   {
    "duration": 38,
    "start_time": "2023-02-06T16:13:52.961Z"
   },
   {
    "duration": 11,
    "start_time": "2023-02-06T16:13:53.001Z"
   },
   {
    "duration": 8,
    "start_time": "2023-02-06T16:13:53.014Z"
   },
   {
    "duration": 8,
    "start_time": "2023-02-06T16:13:53.024Z"
   },
   {
    "duration": 10,
    "start_time": "2023-02-06T16:13:53.033Z"
   },
   {
    "duration": 10,
    "start_time": "2023-02-06T16:13:53.045Z"
   },
   {
    "duration": 454,
    "start_time": "2023-02-06T16:13:53.056Z"
   },
   {
    "duration": 16,
    "start_time": "2023-02-06T16:13:53.512Z"
   },
   {
    "duration": 37,
    "start_time": "2023-02-06T16:13:53.529Z"
   },
   {
    "duration": 47,
    "start_time": "2023-02-06T16:13:53.567Z"
   },
   {
    "duration": 27,
    "start_time": "2023-02-06T16:13:53.616Z"
   },
   {
    "duration": 3,
    "start_time": "2023-02-06T16:13:53.644Z"
   },
   {
    "duration": 15,
    "start_time": "2023-02-06T16:13:53.648Z"
   },
   {
    "duration": 34,
    "start_time": "2023-02-06T16:13:53.665Z"
   },
   {
    "duration": 492,
    "start_time": "2023-02-06T16:13:53.701Z"
   },
   {
    "duration": 684,
    "start_time": "2023-02-06T16:13:54.195Z"
   },
   {
    "duration": 25,
    "start_time": "2023-02-06T16:13:54.880Z"
   },
   {
    "duration": 5,
    "start_time": "2023-02-06T16:13:54.908Z"
   },
   {
    "duration": 8,
    "start_time": "2023-02-06T16:13:54.914Z"
   },
   {
    "duration": 38,
    "start_time": "2023-02-06T16:13:54.924Z"
   },
   {
    "duration": 1268,
    "start_time": "2023-02-06T16:13:54.963Z"
   },
   {
    "duration": 589,
    "start_time": "2023-02-06T16:13:56.233Z"
   },
   {
    "duration": 1136,
    "start_time": "2023-02-06T16:13:56.823Z"
   },
   {
    "duration": 1759,
    "start_time": "2023-02-06T16:13:57.961Z"
   },
   {
    "duration": 1730,
    "start_time": "2023-02-06T16:13:59.721Z"
   },
   {
    "duration": 718,
    "start_time": "2023-02-06T16:14:01.453Z"
   },
   {
    "duration": 1373,
    "start_time": "2023-02-06T16:14:02.173Z"
   },
   {
    "duration": 1734,
    "start_time": "2023-02-06T16:14:03.548Z"
   },
   {
    "duration": 2443,
    "start_time": "2023-02-06T16:27:05.852Z"
   },
   {
    "duration": 783,
    "start_time": "2023-02-06T16:28:14.695Z"
   },
   {
    "duration": 1439,
    "start_time": "2023-02-06T16:28:20.387Z"
   },
   {
    "duration": 1593,
    "start_time": "2023-02-06T16:28:22.597Z"
   },
   {
    "duration": 1765,
    "start_time": "2023-02-06T16:39:04.821Z"
   },
   {
    "duration": 1019,
    "start_time": "2023-02-06T16:41:44.144Z"
   },
   {
    "duration": 1863,
    "start_time": "2023-02-06T16:41:46.584Z"
   },
   {
    "duration": 51,
    "start_time": "2023-02-07T12:02:25.140Z"
   },
   {
    "duration": 887,
    "start_time": "2023-02-07T12:02:34.843Z"
   },
   {
    "duration": 1114,
    "start_time": "2023-02-07T12:02:35.733Z"
   },
   {
    "duration": 5,
    "start_time": "2023-02-07T12:02:36.849Z"
   },
   {
    "duration": 194,
    "start_time": "2023-02-07T12:02:36.856Z"
   },
   {
    "duration": 157,
    "start_time": "2023-02-07T12:02:37.052Z"
   },
   {
    "duration": 9,
    "start_time": "2023-02-07T12:02:37.211Z"
   },
   {
    "duration": 10,
    "start_time": "2023-02-07T12:02:37.222Z"
   },
   {
    "duration": 47,
    "start_time": "2023-02-07T12:02:37.234Z"
   },
   {
    "duration": 7,
    "start_time": "2023-02-07T12:02:37.284Z"
   },
   {
    "duration": 16,
    "start_time": "2023-02-07T12:02:37.294Z"
   },
   {
    "duration": 10,
    "start_time": "2023-02-07T12:02:37.312Z"
   },
   {
    "duration": 32,
    "start_time": "2023-02-07T12:02:37.324Z"
   },
   {
    "duration": 13,
    "start_time": "2023-02-07T12:02:37.358Z"
   },
   {
    "duration": 10,
    "start_time": "2023-02-07T12:02:37.373Z"
   },
   {
    "duration": 7,
    "start_time": "2023-02-07T12:02:37.386Z"
   },
   {
    "duration": 16,
    "start_time": "2023-02-07T12:02:37.394Z"
   },
   {
    "duration": 534,
    "start_time": "2023-02-07T12:02:37.411Z"
   },
   {
    "duration": 26,
    "start_time": "2023-02-07T12:02:37.947Z"
   },
   {
    "duration": 89,
    "start_time": "2023-02-07T12:02:37.975Z"
   },
   {
    "duration": 45,
    "start_time": "2023-02-07T12:02:38.067Z"
   },
   {
    "duration": 60,
    "start_time": "2023-02-07T12:02:38.114Z"
   },
   {
    "duration": 4,
    "start_time": "2023-02-07T12:02:38.177Z"
   },
   {
    "duration": 39,
    "start_time": "2023-02-07T12:02:38.182Z"
   },
   {
    "duration": 77,
    "start_time": "2023-02-07T12:02:38.223Z"
   },
   {
    "duration": 0,
    "start_time": "2023-02-07T12:02:38.303Z"
   },
   {
    "duration": 0,
    "start_time": "2023-02-07T12:02:38.304Z"
   },
   {
    "duration": 0,
    "start_time": "2023-02-07T12:02:38.306Z"
   },
   {
    "duration": 0,
    "start_time": "2023-02-07T12:02:38.307Z"
   },
   {
    "duration": 0,
    "start_time": "2023-02-07T12:02:38.309Z"
   },
   {
    "duration": 0,
    "start_time": "2023-02-07T12:02:38.310Z"
   },
   {
    "duration": 0,
    "start_time": "2023-02-07T12:02:38.312Z"
   },
   {
    "duration": 0,
    "start_time": "2023-02-07T12:02:38.313Z"
   },
   {
    "duration": 0,
    "start_time": "2023-02-07T12:02:38.314Z"
   },
   {
    "duration": 0,
    "start_time": "2023-02-07T12:02:38.315Z"
   },
   {
    "duration": 0,
    "start_time": "2023-02-07T12:02:38.316Z"
   },
   {
    "duration": 0,
    "start_time": "2023-02-07T12:02:38.317Z"
   },
   {
    "duration": 0,
    "start_time": "2023-02-07T12:02:38.318Z"
   },
   {
    "duration": 0,
    "start_time": "2023-02-07T12:02:38.319Z"
   },
   {
    "duration": 0,
    "start_time": "2023-02-07T12:02:38.320Z"
   },
   {
    "duration": 0,
    "start_time": "2023-02-07T12:02:38.321Z"
   },
   {
    "duration": 0,
    "start_time": "2023-02-07T12:02:38.354Z"
   },
   {
    "duration": 9,
    "start_time": "2023-02-07T12:03:14.995Z"
   },
   {
    "duration": 10,
    "start_time": "2023-02-07T12:04:25.437Z"
   },
   {
    "duration": 8,
    "start_time": "2023-02-07T12:04:53.806Z"
   },
   {
    "duration": 11,
    "start_time": "2023-02-07T12:04:59.811Z"
   },
   {
    "duration": 12,
    "start_time": "2023-02-07T12:05:17.012Z"
   },
   {
    "duration": 672,
    "start_time": "2023-02-07T12:05:21.835Z"
   },
   {
    "duration": 767,
    "start_time": "2023-02-07T12:05:22.509Z"
   },
   {
    "duration": 5,
    "start_time": "2023-02-07T12:05:23.278Z"
   },
   {
    "duration": 176,
    "start_time": "2023-02-07T12:05:23.285Z"
   },
   {
    "duration": 175,
    "start_time": "2023-02-07T12:05:23.463Z"
   },
   {
    "duration": 17,
    "start_time": "2023-02-07T12:05:23.640Z"
   },
   {
    "duration": 18,
    "start_time": "2023-02-07T12:05:23.659Z"
   },
   {
    "duration": 33,
    "start_time": "2023-02-07T12:05:23.680Z"
   },
   {
    "duration": 8,
    "start_time": "2023-02-07T12:05:23.715Z"
   },
   {
    "duration": 28,
    "start_time": "2023-02-07T12:05:23.726Z"
   },
   {
    "duration": 13,
    "start_time": "2023-02-07T12:05:23.756Z"
   },
   {
    "duration": 23,
    "start_time": "2023-02-07T12:05:23.770Z"
   },
   {
    "duration": 14,
    "start_time": "2023-02-07T12:05:23.795Z"
   },
   {
    "duration": 9,
    "start_time": "2023-02-07T12:05:23.811Z"
   },
   {
    "duration": 16,
    "start_time": "2023-02-07T12:05:23.822Z"
   },
   {
    "duration": 11,
    "start_time": "2023-02-07T12:05:23.840Z"
   },
   {
    "duration": 523,
    "start_time": "2023-02-07T12:05:23.852Z"
   },
   {
    "duration": 21,
    "start_time": "2023-02-07T12:05:24.377Z"
   },
   {
    "duration": 67,
    "start_time": "2023-02-07T12:05:24.399Z"
   },
   {
    "duration": 30,
    "start_time": "2023-02-07T12:05:24.467Z"
   },
   {
    "duration": 31,
    "start_time": "2023-02-07T12:05:24.498Z"
   },
   {
    "duration": 4,
    "start_time": "2023-02-07T12:05:24.552Z"
   },
   {
    "duration": 20,
    "start_time": "2023-02-07T12:05:24.557Z"
   },
   {
    "duration": 85,
    "start_time": "2023-02-07T12:05:24.579Z"
   },
   {
    "duration": 0,
    "start_time": "2023-02-07T12:05:24.666Z"
   },
   {
    "duration": 0,
    "start_time": "2023-02-07T12:05:24.667Z"
   },
   {
    "duration": 0,
    "start_time": "2023-02-07T12:05:24.668Z"
   },
   {
    "duration": 0,
    "start_time": "2023-02-07T12:05:24.669Z"
   },
   {
    "duration": 0,
    "start_time": "2023-02-07T12:05:24.670Z"
   },
   {
    "duration": 0,
    "start_time": "2023-02-07T12:05:24.671Z"
   },
   {
    "duration": 0,
    "start_time": "2023-02-07T12:05:24.672Z"
   },
   {
    "duration": 0,
    "start_time": "2023-02-07T12:05:24.673Z"
   },
   {
    "duration": 0,
    "start_time": "2023-02-07T12:05:24.674Z"
   },
   {
    "duration": 0,
    "start_time": "2023-02-07T12:05:24.675Z"
   },
   {
    "duration": 0,
    "start_time": "2023-02-07T12:05:24.676Z"
   },
   {
    "duration": 0,
    "start_time": "2023-02-07T12:05:24.677Z"
   },
   {
    "duration": 0,
    "start_time": "2023-02-07T12:05:24.678Z"
   },
   {
    "duration": 0,
    "start_time": "2023-02-07T12:05:24.679Z"
   },
   {
    "duration": 0,
    "start_time": "2023-02-07T12:05:24.680Z"
   },
   {
    "duration": 0,
    "start_time": "2023-02-07T12:05:24.681Z"
   },
   {
    "duration": 0,
    "start_time": "2023-02-07T12:05:24.682Z"
   },
   {
    "duration": 9,
    "start_time": "2023-02-07T12:07:49.691Z"
   },
   {
    "duration": 758,
    "start_time": "2023-02-07T12:07:52.117Z"
   },
   {
    "duration": 18,
    "start_time": "2023-02-07T12:08:34.260Z"
   },
   {
    "duration": 8,
    "start_time": "2023-02-07T12:09:09.079Z"
   },
   {
    "duration": 11,
    "start_time": "2023-02-07T13:59:07.404Z"
   },
   {
    "duration": 667,
    "start_time": "2023-02-07T13:59:13.741Z"
   },
   {
    "duration": 726,
    "start_time": "2023-02-07T13:59:14.410Z"
   },
   {
    "duration": 4,
    "start_time": "2023-02-07T13:59:15.138Z"
   },
   {
    "duration": 170,
    "start_time": "2023-02-07T13:59:15.153Z"
   },
   {
    "duration": 141,
    "start_time": "2023-02-07T13:59:15.325Z"
   },
   {
    "duration": 10,
    "start_time": "2023-02-07T13:59:15.468Z"
   },
   {
    "duration": 6,
    "start_time": "2023-02-07T13:59:15.480Z"
   },
   {
    "duration": 36,
    "start_time": "2023-02-07T13:59:15.489Z"
   },
   {
    "duration": 33,
    "start_time": "2023-02-07T13:59:15.527Z"
   },
   {
    "duration": 10,
    "start_time": "2023-02-07T13:59:15.562Z"
   },
   {
    "duration": 10,
    "start_time": "2023-02-07T13:59:15.573Z"
   },
   {
    "duration": 13,
    "start_time": "2023-02-07T13:59:15.584Z"
   },
   {
    "duration": 8,
    "start_time": "2023-02-07T13:59:15.598Z"
   },
   {
    "duration": 9,
    "start_time": "2023-02-07T13:59:15.608Z"
   },
   {
    "duration": 10,
    "start_time": "2023-02-07T13:59:15.618Z"
   },
   {
    "duration": 33,
    "start_time": "2023-02-07T13:59:15.629Z"
   },
   {
    "duration": 482,
    "start_time": "2023-02-07T13:59:15.664Z"
   },
   {
    "duration": 19,
    "start_time": "2023-02-07T13:59:16.147Z"
   },
   {
    "duration": 50,
    "start_time": "2023-02-07T13:59:16.168Z"
   },
   {
    "duration": 51,
    "start_time": "2023-02-07T13:59:16.219Z"
   },
   {
    "duration": 31,
    "start_time": "2023-02-07T13:59:16.271Z"
   },
   {
    "duration": 3,
    "start_time": "2023-02-07T13:59:16.304Z"
   },
   {
    "duration": 15,
    "start_time": "2023-02-07T13:59:16.308Z"
   },
   {
    "duration": 30,
    "start_time": "2023-02-07T13:59:16.324Z"
   },
   {
    "duration": 698,
    "start_time": "2023-02-07T13:59:16.356Z"
   },
   {
    "duration": 26,
    "start_time": "2023-02-07T13:59:17.056Z"
   },
   {
    "duration": 4,
    "start_time": "2023-02-07T13:59:17.083Z"
   },
   {
    "duration": 11,
    "start_time": "2023-02-07T13:59:17.090Z"
   },
   {
    "duration": 20,
    "start_time": "2023-02-07T13:59:17.103Z"
   },
   {
    "duration": 1785,
    "start_time": "2023-02-07T13:59:17.125Z"
   },
   {
    "duration": 1272,
    "start_time": "2023-02-07T13:59:18.912Z"
   },
   {
    "duration": 1121,
    "start_time": "2023-02-07T13:59:20.186Z"
   },
   {
    "duration": 1739,
    "start_time": "2023-02-07T13:59:21.309Z"
   },
   {
    "duration": 805,
    "start_time": "2023-02-07T13:59:23.049Z"
   },
   {
    "duration": 1271,
    "start_time": "2023-02-07T13:59:23.856Z"
   },
   {
    "duration": 1844,
    "start_time": "2023-02-07T13:59:25.129Z"
   },
   {
    "duration": 788,
    "start_time": "2023-02-07T13:59:26.975Z"
   },
   {
    "duration": 1366,
    "start_time": "2023-02-07T13:59:27.765Z"
   },
   {
    "duration": 2438,
    "start_time": "2023-02-07T13:59:29.133Z"
   },
   {
    "duration": 1229,
    "start_time": "2023-02-07T13:59:31.573Z"
   },
   {
    "duration": 2304,
    "start_time": "2023-02-07T13:59:32.854Z"
   },
   {
    "duration": 665,
    "start_time": "2023-02-08T07:10:45.281Z"
   },
   {
    "duration": 672,
    "start_time": "2023-02-08T07:10:45.948Z"
   },
   {
    "duration": 5,
    "start_time": "2023-02-08T07:10:46.622Z"
   },
   {
    "duration": 203,
    "start_time": "2023-02-08T07:10:46.629Z"
   },
   {
    "duration": 116,
    "start_time": "2023-02-08T07:10:46.834Z"
   },
   {
    "duration": 8,
    "start_time": "2023-02-08T07:10:46.952Z"
   },
   {
    "duration": 5,
    "start_time": "2023-02-08T07:10:46.962Z"
   },
   {
    "duration": 20,
    "start_time": "2023-02-08T07:10:46.968Z"
   },
   {
    "duration": 6,
    "start_time": "2023-02-08T07:10:47.010Z"
   },
   {
    "duration": 9,
    "start_time": "2023-02-08T07:10:47.019Z"
   },
   {
    "duration": 12,
    "start_time": "2023-02-08T07:10:47.029Z"
   },
   {
    "duration": 10,
    "start_time": "2023-02-08T07:10:47.043Z"
   },
   {
    "duration": 8,
    "start_time": "2023-02-08T07:10:47.054Z"
   },
   {
    "duration": 8,
    "start_time": "2023-02-08T07:10:47.063Z"
   },
   {
    "duration": 9,
    "start_time": "2023-02-08T07:10:47.073Z"
   },
   {
    "duration": 27,
    "start_time": "2023-02-08T07:10:47.083Z"
   },
   {
    "duration": 449,
    "start_time": "2023-02-08T07:10:47.112Z"
   },
   {
    "duration": 18,
    "start_time": "2023-02-08T07:10:47.563Z"
   },
   {
    "duration": 55,
    "start_time": "2023-02-08T07:10:47.583Z"
   },
   {
    "duration": 28,
    "start_time": "2023-02-08T07:10:47.640Z"
   },
   {
    "duration": 47,
    "start_time": "2023-02-08T07:10:47.670Z"
   },
   {
    "duration": 3,
    "start_time": "2023-02-08T07:10:47.719Z"
   },
   {
    "duration": 17,
    "start_time": "2023-02-08T07:10:47.723Z"
   },
   {
    "duration": 8,
    "start_time": "2023-02-08T07:10:47.741Z"
   },
   {
    "duration": 672,
    "start_time": "2023-02-08T07:10:47.751Z"
   },
   {
    "duration": 19,
    "start_time": "2023-02-08T07:10:48.425Z"
   },
   {
    "duration": 4,
    "start_time": "2023-02-08T07:10:48.446Z"
   },
   {
    "duration": 2,
    "start_time": "2023-02-08T07:10:48.453Z"
   },
   {
    "duration": 17,
    "start_time": "2023-02-08T07:10:48.457Z"
   },
   {
    "duration": 1251,
    "start_time": "2023-02-08T07:10:48.476Z"
   },
   {
    "duration": 579,
    "start_time": "2023-02-08T07:10:49.728Z"
   },
   {
    "duration": 1036,
    "start_time": "2023-02-08T07:10:50.310Z"
   },
   {
    "duration": 1614,
    "start_time": "2023-02-08T07:10:51.347Z"
   },
   {
    "duration": 749,
    "start_time": "2023-02-08T07:10:52.962Z"
   },
   {
    "duration": 1207,
    "start_time": "2023-02-08T07:10:53.713Z"
   },
   {
    "duration": 1640,
    "start_time": "2023-02-08T07:10:54.921Z"
   },
   {
    "duration": 779,
    "start_time": "2023-02-08T07:10:56.562Z"
   },
   {
    "duration": 1190,
    "start_time": "2023-02-08T07:10:57.342Z"
   },
   {
    "duration": 2114,
    "start_time": "2023-02-08T07:10:58.533Z"
   },
   {
    "duration": 944,
    "start_time": "2023-02-08T07:11:00.649Z"
   },
   {
    "duration": 1649,
    "start_time": "2023-02-08T07:11:01.595Z"
   },
   {
    "duration": 47,
    "start_time": "2023-02-10T10:24:46.091Z"
   },
   {
    "duration": 776,
    "start_time": "2023-02-10T10:24:52.945Z"
   },
   {
    "duration": 1059,
    "start_time": "2023-02-10T10:24:53.723Z"
   },
   {
    "duration": 4,
    "start_time": "2023-02-10T10:24:54.784Z"
   },
   {
    "duration": 164,
    "start_time": "2023-02-10T10:24:54.790Z"
   },
   {
    "duration": 135,
    "start_time": "2023-02-10T10:24:54.956Z"
   },
   {
    "duration": 11,
    "start_time": "2023-02-10T10:24:55.093Z"
   },
   {
    "duration": 5,
    "start_time": "2023-02-10T10:24:55.106Z"
   },
   {
    "duration": 28,
    "start_time": "2023-02-10T10:24:55.113Z"
   },
   {
    "duration": 7,
    "start_time": "2023-02-10T10:24:55.142Z"
   },
   {
    "duration": 11,
    "start_time": "2023-02-10T10:24:55.151Z"
   },
   {
    "duration": 11,
    "start_time": "2023-02-10T10:24:55.163Z"
   },
   {
    "duration": 33,
    "start_time": "2023-02-10T10:24:55.176Z"
   },
   {
    "duration": 11,
    "start_time": "2023-02-10T10:24:55.211Z"
   },
   {
    "duration": 9,
    "start_time": "2023-02-10T10:24:55.224Z"
   },
   {
    "duration": 11,
    "start_time": "2023-02-10T10:24:55.235Z"
   },
   {
    "duration": 13,
    "start_time": "2023-02-10T10:24:55.248Z"
   },
   {
    "duration": 470,
    "start_time": "2023-02-10T10:24:55.263Z"
   },
   {
    "duration": 19,
    "start_time": "2023-02-10T10:24:55.735Z"
   },
   {
    "duration": 59,
    "start_time": "2023-02-10T10:24:55.756Z"
   },
   {
    "duration": 31,
    "start_time": "2023-02-10T10:24:55.817Z"
   },
   {
    "duration": 32,
    "start_time": "2023-02-10T10:24:55.849Z"
   },
   {
    "duration": 21,
    "start_time": "2023-02-10T10:24:55.883Z"
   },
   {
    "duration": 16,
    "start_time": "2023-02-10T10:24:55.906Z"
   },
   {
    "duration": 7,
    "start_time": "2023-02-10T10:24:55.924Z"
   },
   {
    "duration": 712,
    "start_time": "2023-02-10T10:24:55.933Z"
   },
   {
    "duration": 19,
    "start_time": "2023-02-10T10:24:56.647Z"
   },
   {
    "duration": 88,
    "start_time": "2023-02-10T10:24:56.668Z"
   },
   {
    "duration": 0,
    "start_time": "2023-02-10T10:24:56.758Z"
   },
   {
    "duration": 0,
    "start_time": "2023-02-10T10:24:56.760Z"
   },
   {
    "duration": 0,
    "start_time": "2023-02-10T10:24:56.761Z"
   },
   {
    "duration": 0,
    "start_time": "2023-02-10T10:24:56.762Z"
   },
   {
    "duration": 0,
    "start_time": "2023-02-10T10:24:56.763Z"
   },
   {
    "duration": 0,
    "start_time": "2023-02-10T10:24:56.764Z"
   },
   {
    "duration": 0,
    "start_time": "2023-02-10T10:24:56.765Z"
   },
   {
    "duration": 0,
    "start_time": "2023-02-10T10:24:56.766Z"
   },
   {
    "duration": 0,
    "start_time": "2023-02-10T10:24:56.767Z"
   },
   {
    "duration": 0,
    "start_time": "2023-02-10T10:24:56.768Z"
   },
   {
    "duration": 0,
    "start_time": "2023-02-10T10:24:56.769Z"
   },
   {
    "duration": 0,
    "start_time": "2023-02-10T10:24:56.770Z"
   },
   {
    "duration": 0,
    "start_time": "2023-02-10T10:24:56.772Z"
   },
   {
    "duration": 0,
    "start_time": "2023-02-10T10:24:56.852Z"
   },
   {
    "duration": 31,
    "start_time": "2023-02-10T10:26:38.634Z"
   },
   {
    "duration": 29,
    "start_time": "2023-02-10T10:26:58.966Z"
   },
   {
    "duration": 20,
    "start_time": "2023-02-10T10:28:43.102Z"
   },
   {
    "duration": 4984,
    "start_time": "2023-02-10T10:28:59.837Z"
   },
   {
    "duration": 16,
    "start_time": "2023-02-10T10:29:27.657Z"
   }
  ],
  "colab": {
   "provenance": []
  },
  "kernelspec": {
   "display_name": "Python 3 (ipykernel)",
   "language": "python",
   "name": "python3"
  },
  "language_info": {
   "codemirror_mode": {
    "name": "ipython",
    "version": 3
   },
   "file_extension": ".py",
   "mimetype": "text/x-python",
   "name": "python",
   "nbconvert_exporter": "python",
   "pygments_lexer": "ipython3",
   "version": "3.9.13"
  },
  "toc": {
   "base_numbering": 1,
   "nav_menu": {},
   "number_sections": true,
   "sideBar": true,
   "skip_h1_title": true,
   "title_cell": "Table of Contents",
   "title_sidebar": "Contents",
   "toc_cell": false,
   "toc_position": {
    "height": "calc(100% - 180px)",
    "left": "10px",
    "top": "150px",
    "width": "269px"
   },
   "toc_section_display": true,
   "toc_window_display": true
  }
 },
 "nbformat": 4,
 "nbformat_minor": 1
}
